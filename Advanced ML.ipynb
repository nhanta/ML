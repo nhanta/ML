{
 "cells": [
  {
   "cell_type": "markdown",
   "metadata": {},
   "source": [
    "# Áp dụng mô hình ANN để:<br> Phân loại ung thư sử dụng dữ liệu biểu hiện gen."
   ]
  },
  {
   "cell_type": "markdown",
   "metadata": {},
   "source": [
    "Author: Trung NT, Nhan TV"
   ]
  },
  {
   "cell_type": "markdown",
   "metadata": {},
   "source": [
    "## Content<br>\n",
    "<strong>1 Data</strong><br>\n",
    "<strong>2  Method</strong><br>\n",
    "2.1 PCA and PLS <br>\n",
    "2.2 Machine Learning Models<br>\n",
    "2.3 Artificial Neural Network<br>\n",
    "<strong>3 Accuracy Evaluate Methods</strong>\n"
   ]
  },
  {
   "cell_type": "code",
   "execution_count": 84,
   "metadata": {},
   "outputs": [],
   "source": [
    "# Import all the libraries that we shall be using\n",
    "import numpy as np\n",
    "import pandas as pd\n",
    "\n",
    "import matplotlib.pyplot as plt\n",
    "import seaborn as sns\n",
    "from mpl_toolkits.mplot3d import Axes3D\n",
    "%matplotlib inline\n",
    "\n",
    "from sklearn.preprocessing import StandardScaler\n",
    "from sklearn.decomposition import PCA\n",
    "from sklearn.model_selection import GridSearchCV, cross_val_score\n",
    "from sklearn.metrics import accuracy_score, confusion_matrix\n",
    "from sklearn.cluster import KMeans\n",
    "from sklearn.svm import SVC\n",
    "from sklearn.linear_model import LogisticRegression\n",
    "from sklearn.naive_bayes import GaussianNB\n",
    "from sklearn.ensemble import RandomForestClassifier\n",
    "from sklearn import metrics\n",
    "from sklearn.cross_decomposition import PLSRegression\n",
    "\n",
    "import xgboost as xgb\n",
    "\n",
    "from keras.models import Sequential\n",
    "from keras.layers import Dense\n",
    "from keras.callbacks import EarlyStopping"
   ]
  },
  {
   "cell_type": "code",
   "execution_count": 2,
   "metadata": {},
   "outputs": [],
   "source": [
    "import numpy as np\n",
    "import pandas as pd"
   ]
  },
  {
   "cell_type": "markdown",
   "metadata": {},
   "source": [
    "## 1 Data "
   ]
  },
  {
   "cell_type": "code",
   "execution_count": 3,
   "metadata": {},
   "outputs": [
    {
     "name": "stdout",
     "output_type": "stream",
     "text": [
      "(72, 2)\n"
     ]
    }
   ],
   "source": [
    "# Import labels (for the whole dataset, both training and testing)\n",
    "y = pd.read_csv('D:/Data Science/Data Science Core/Documents/Advanced ML - Do Thanh Ha/Project/actual.csv')\n",
    "print(y.shape)"
   ]
  },
  {
   "cell_type": "code",
   "execution_count": 3,
   "metadata": {},
   "outputs": [],
   "source": [
    "# Recode label to numeric\n",
    "y = y.replace({'ALL':0,'AML':1})\n",
    "labels = ['ALL', 'AML'] # for plotting convenience later on"
   ]
  },
  {
   "cell_type": "code",
   "execution_count": 4,
   "metadata": {},
   "outputs": [
    {
     "name": "stdout",
     "output_type": "stream",
     "text": [
      "(7129, 78)\n",
      "(7129, 70)\n"
     ]
    }
   ],
   "source": [
    "# Import training data\n",
    "df_train = pd.read_csv('D:/Data Science/Data Science Core/Documents/Advanced ML - Do Thanh Ha/Project/data_set_ALL_AML_train.csv')\n",
    "print(df_train.shape)\n",
    "\n",
    "# Import testing data\n",
    "df_test = pd.read_csv('D:/Data Science/Data Science Core/Documents/Advanced ML - Do Thanh Ha/Project/data_set_ALL_AML_independent.csv')\n",
    "print(df_test.shape)"
   ]
  },
  {
   "cell_type": "code",
   "execution_count": 5,
   "metadata": {},
   "outputs": [],
   "source": [
    "# Remove \"call\" columns from training and testing data\n",
    "train_to_keep = [col for col in df_train.columns if \"call\" not in col]\n",
    "test_to_keep = [col for col in df_test.columns if \"call\" not in col]\n",
    "\n",
    "X_train_tr = df_train[train_to_keep]\n",
    "X_test_tr = df_test[test_to_keep]\n",
    "\n",
    "# Reindex for X_train_tr and X_test_tr\n",
    "train_columns_titles = ['Gene Description', 'Gene Accession Number', '1', '2', '3', '4', '5', '6', '7', '8', '9', '10',\n",
    "       '11', '12', '13', '14', '15', '16', '17', '18', '19', '20', '21', '22', '23', '24', '25', \n",
    "       '26', '27', '28', '29', '30', '31', '32', '33', '34', '35', '36', '37', '38']\n",
    "\n",
    "X_train_tr = X_train_tr.reindex(columns=train_columns_titles)\n",
    "\n",
    "test_columns_titles = ['Gene Description', 'Gene Accession Number','39', '40', '41', '42', '43', '44', '45', '46',\n",
    "       '47', '48', '49', '50', '51', '52', '53',  '54', '55', '56', '57', '58', '59',\n",
    "       '60', '61', '62', '63', '64', '65', '66', '67', '68', '69', '70', '71', '72']\n",
    "\n",
    "X_test_tr = X_test_tr.reindex(columns=test_columns_titles)"
   ]
  },
  {
   "cell_type": "code",
   "execution_count": 6,
   "metadata": {},
   "outputs": [],
   "source": [
    "# Build X_train ; X_test\n",
    "X_train = X_train_tr.T\n",
    "X_test = X_test_tr.T"
   ]
  },
  {
   "cell_type": "code",
   "execution_count": 7,
   "metadata": {},
   "outputs": [
    {
     "name": "stdout",
     "output_type": "stream",
     "text": [
      "(38, 7129)\n",
      "(34, 7129)\n"
     ]
    }
   ],
   "source": [
    "# Clean up the column names for training and testing data\n",
    "X_train.columns = X_train.iloc[1]\n",
    "X_train = X_train.drop([\"Gene Description\", \"Gene Accession Number\"]).apply(pd.to_numeric)\n",
    "\n",
    "# Clean up the column names for Testing data\n",
    "X_test.columns = X_test.iloc[1]\n",
    "X_test = X_test.drop([\"Gene Description\", \"Gene Accession Number\"]).apply(pd.to_numeric)\n",
    "\n",
    "print(X_train.shape)\n",
    "print(X_test.shape)"
   ]
  },
  {
   "cell_type": "code",
   "execution_count": 8,
   "metadata": {},
   "outputs": [],
   "source": [
    "# Subset the first 38 patient's cancer types\n",
    "X_train = X_train.reset_index(drop=True)\n",
    "y_train = y[y.patient <= 38].reset_index(drop=True)\n",
    "\n",
    "# Subset the rest for testing\n",
    "X_test = X_test.reset_index(drop=True)\n",
    "y_test = y[y.patient > 38].reset_index(drop=True)"
   ]
  },
  {
   "cell_type": "code",
   "execution_count": 9,
   "metadata": {},
   "outputs": [],
   "source": [
    "# Convert from integer to float\n",
    "X_train_fl = X_train.astype(float, 64)\n",
    "X_test_fl = X_test.astype(float, 64)\n",
    "\n",
    "# Apply the same scaling to both datasets\n",
    "scaler = StandardScaler()\n",
    "X_train_scl = scaler.fit_transform(X_train_fl)\n",
    "X_test_scl = scaler.transform(X_test_fl) # note that we transform rather than fit_transform"
   ]
  },
  {
   "cell_type": "markdown",
   "metadata": {},
   "source": [
    "## 2 Method"
   ]
  },
  {
   "cell_type": "markdown",
   "metadata": {},
   "source": [
    "### 2.1 PCA and PLS"
   ]
  },
  {
   "cell_type": "code",
   "execution_count": 11,
   "metadata": {},
   "outputs": [
    {
     "name": "stdout",
     "output_type": "stream",
     "text": [
      "36 features explain around 99% of the variance. From 7129 features to 36\n"
     ]
    },
    {
     "data": {
      "image/png": "[encoded data removed]",
      "text/plain": [
       "<Figure size 432x288 with 1 Axes>"
      ]
     },
     "metadata": {
      "needs_background": "light"
     },
     "output_type": "display_data"
    }
   ],
   "source": [
    "# PCA reduced\n",
    "\n",
    "pca = PCA()\n",
    "pca.fit_transform(X_train_scl)\n",
    "total = sum(pca.explained_variance_)\n",
    "k = 0\n",
    "current_variance = 0\n",
    "while current_variance/total < 0.99:\n",
    "    current_variance += pca.explained_variance_[k]\n",
    "    k = k + 1\n",
    "    \n",
    "print(k, \" features explain around 99% of the variance. From 7129 features to \", k, sep='')\n",
    "\n",
    "pca = PCA(n_components=k)\n",
    "X_train.pca = pca.fit(X_train_scl)\n",
    "X_train_pca = pca.transform(X_train_scl)\n",
    "X_test_pca = pca.transform(X_test_scl)\n",
    "\n",
    "var_exp = pca.explained_variance_ratio_.cumsum()\n",
    "var_exp = var_exp*100\n",
    "plt.bar(range(k), var_exp);"
   ]
  },
  {
   "cell_type": "code",
   "execution_count": 12,
   "metadata": {},
   "outputs": [],
   "source": [
    "# X,y reduced by PCA\n",
    "\n",
    "pca36 = PCA(n_components=36).fit(X_train_scl)\n",
    "X_train_reduced = pca36.transform(X_train_scl)\n",
    "X_test_reduced = pca36.transform(X_test_scl)"
   ]
  },
  {
   "cell_type": "code",
   "execution_count": 13,
   "metadata": {},
   "outputs": [
    {
     "data": {
      "text/plain": [
       "(34, 36)"
      ]
     },
     "execution_count": 13,
     "metadata": {},
     "output_type": "execute_result"
    }
   ],
   "source": [
    "X_train_reduced.shape\n",
    "X_test_reduced.shape"
   ]
  },
  {
   "cell_type": "code",
   "execution_count": 15,
   "metadata": {},
   "outputs": [
    {
     "name": "stdout",
     "output_type": "stream",
     "text": [
      "with k = 4 score = 0.9919894650894906\n",
      "---------------------------\n",
      "Bảng thành phần chính\n",
      "[[-10.62066844 -24.30848997   4.71674367   0.72519393]\n",
      " [ -6.1132637    0.70182839 -17.93246305 -28.23559588]\n",
      " [ -6.42703536 -43.66213256  21.91056488   2.56994932]\n",
      " [ -6.35275537 -23.28484156   0.96341609   4.89577485]\n",
      " [-28.27199703  24.79170982  -0.20595023  -8.36266293]\n",
      " [-10.03025638 -19.13381283 -13.30001237  17.27314006]\n",
      " [ -0.09608311 -31.51422924  -2.49821751   4.59459722]\n",
      " [  7.89248915 -56.79710598   3.99664734   3.66097767]\n",
      " [-14.86660054 -12.75146836  15.6513687  -13.21611144]\n",
      " [ -9.70832632   0.28853007 -17.52017757   0.54694299]\n",
      " [-13.31581981   3.52838783 -11.70620106  -8.52888811]\n",
      " [ -4.81040202   3.51656192 -35.66268687   9.47881649]\n",
      " [-31.41478238  18.08216899   1.72628127  -4.0172416 ]\n",
      " [-15.78973808  -0.29089693  -2.65813931  -6.26005415]\n",
      " [-33.49825078  21.06409979   4.11650559  -2.38842239]\n",
      " [-19.65315264   0.39744815  -1.93455526   1.75355861]\n",
      " [-11.71382845 -24.45980625  44.01374517 -43.55204116]\n",
      " [-12.48230329   3.70990668 -21.50339037   1.1162023 ]\n",
      " [-12.46526471  11.48826587 -20.88081089  -0.66122716]\n",
      " [-44.36409036  35.69686135  49.29660407 -41.02692627]\n",
      " [-32.55380645  26.65007062  -8.35406695  17.79951536]\n",
      " [ -2.87360412  -9.84286802 -29.62084156   0.14654044]\n",
      " [-10.49175741 -18.59675848 -12.41075636  21.88393953]\n",
      " [-22.91262965   6.62275831  14.26597151  -1.47339769]\n",
      " [ -3.30497629  -0.46162378 -30.67489858 -13.22314932]\n",
      " [-16.21183798   2.90624293 -13.16195581   1.79153777]\n",
      " [  0.71559263 -55.04048721   1.84077464  19.78778956]\n",
      " [ 27.85663192  15.24008967  12.19545372   7.01395663]\n",
      " [  7.38375207  47.66643707  -4.33022748  35.03819766]\n",
      " [ 39.50560331  27.52351177  -6.46325267 -25.45493955]\n",
      " [ 23.75179016  12.27070368  18.22805173  38.74495707]\n",
      " [ 29.77171268   5.32343413  26.25917304  15.80025444]\n",
      " [ 64.57095389 -16.99334812  -3.44717366 -41.78721977]\n",
      " [ 27.96941869  17.05943488  25.79285635  26.55257955]\n",
      " [ 21.00639638   8.34517127  25.5503285   57.74094109]\n",
      " [ 47.01286217  14.15500347 -10.20933281 -31.27286922]\n",
      " [ 47.80385745  15.90784072 -11.75404126 -20.44825938]\n",
      " [ 35.10217015  14.2014019    5.70466536   0.99364347]]\n"
     ]
    },
    {
     "data": {
      "image/png": "[encoded data removed]",
      "text/plain": [
       "<Figure size 432x288 with 1 Axes>"
      ]
     },
     "metadata": {
      "needs_background": "light"
     },
     "output_type": "display_data"
    }
   ],
   "source": [
    "# PLS reduced\n",
    "\n",
    "from sklearn.cross_decomposition import PLSRegression\n",
    "k = 0\n",
    "range_k = []\n",
    "score = 0\n",
    "range_score = []\n",
    "\n",
    "while score <0.99:\n",
    "    k += 1\n",
    "    range_k.append(k)\n",
    "    pls = PLSRegression(n_components=k)\n",
    "    pls.fit(X_train_scl, y_train.iloc[:,1])\n",
    "    score = pls.score(X_train_scl, y_train.iloc[:,1], sample_weight=None)\n",
    "    range_score.append(score)\n",
    "print(\"with k =\", range_k[-1], \"score =\", range_score[-1])\n",
    "plt.title(\"Lựa chọn số thành phần chính trong PLS\")\n",
    "plt.xlabel(\"Số thành phần chính\")\n",
    "plt.ylabel(\"Độ chính xác\")\n",
    "plt.bar(range_k, range_score)\n",
    "print(\"---------------------------\")\n",
    "print(\"Bảng thành phần chính\")\n",
    "pls = PLSRegression(n_components=range_k[-1])\n",
    "pls.fit(X_train_scl, y_train.iloc[:,1])\n",
    "X_train_pls, y_train_pls = pls.transform(X_train_scl, y_train.iloc[:,1])\n",
    "X_test_pls, y_test_pls = pls.transform(X_test_scl, y_test.iloc[:,1])\n",
    "print(X_train_pls)"
   ]
  },
  {
   "cell_type": "markdown",
   "metadata": {},
   "source": [
    "### 2.2 Machine Learning Models"
   ]
  },
  {
   "cell_type": "code",
   "execution_count": 16,
   "metadata": {},
   "outputs": [
    {
     "name": "stdout",
     "output_type": "stream",
     "text": [
      "K-means accuracy: 0.765\n"
     ]
    },
    {
     "data": {
      "image/png": "[encoded data removed]",
      "text/plain": [
       "<Figure size 432x288 with 2 Axes>"
      ]
     },
     "metadata": {
      "needs_background": "light"
     },
     "output_type": "display_data"
    }
   ],
   "source": [
    "# K-Means Clustering with PCA\n",
    "\n",
    "kmeans = KMeans(n_clusters=2, random_state=0).fit(X_train_reduced)\n",
    "km_pred_pca = kmeans.predict(X_test_reduced)\n",
    "\n",
    "print('K-means accuracy:', round(accuracy_score(y_test.iloc[:,1], km_pred_pca), 3))\n",
    "\n",
    "cm_km_pca = confusion_matrix(y_test.iloc[:,1], km_pred_pca)\n",
    "\n",
    "ax = plt.subplot()\n",
    "sns.heatmap(cm_km_pca, annot=True, ax = ax, fmt='g', cmap='Greens') \n",
    "\n",
    "# labels, title and ticks\n",
    "ax.set_xlabel('Predicted labels')\n",
    "ax.set_ylabel('True labels') \n",
    "ax.set_title('K-means Confusion Matrix with PCA') \n",
    "ax.xaxis.set_ticklabels(labels) \n",
    "ax.yaxis.set_ticklabels(labels, rotation=360);"
   ]
  },
  {
   "cell_type": "code",
   "execution_count": 17,
   "metadata": {},
   "outputs": [
    {
     "name": "stdout",
     "output_type": "stream",
     "text": [
      "K-means accuracy: 0.853\n"
     ]
    },
    {
     "data": {
      "image/png": "[encoded data removed]",
      "text/plain": [
       "<Figure size 432x288 with 2 Axes>"
      ]
     },
     "metadata": {
      "needs_background": "light"
     },
     "output_type": "display_data"
    }
   ],
   "source": [
    "# K-Means Clustering with PLS\n",
    "\n",
    "kmeans = KMeans(n_clusters=2, random_state=0).fit(X_train_pls)\n",
    "km_pred = kmeans.predict(X_test_pls)\n",
    "\n",
    "print('K-means accuracy:', round(accuracy_score(y_test.iloc[:,1], km_pred), 3))\n",
    "\n",
    "cm_km = confusion_matrix(y_test.iloc[:,1], km_pred)\n",
    "\n",
    "ax = plt.subplot()\n",
    "sns.heatmap(cm_km, annot=True, ax = ax, fmt='g', cmap='Greens') \n",
    "\n",
    "# labels, title and ticks\n",
    "ax.set_xlabel('Predicted labels')\n",
    "ax.set_ylabel('True labels') \n",
    "ax.set_title('K-means Confusion Matrix with PLS') \n",
    "ax.xaxis.set_ticklabels(labels) \n",
    "ax.yaxis.set_ticklabels(labels, rotation=360);"
   ]
  },
  {
   "cell_type": "code",
   "execution_count": 22,
   "metadata": {},
   "outputs": [
    {
     "name": "stdout",
     "output_type": "stream",
     "text": [
      "Naive Bayes accuracy: 0.676\n"
     ]
    },
    {
     "data": {
      "image/png": "[encoded data removed]",
      "text/plain": [
       "<Figure size 432x288 with 2 Axes>"
      ]
     },
     "metadata": {
      "needs_background": "light"
     },
     "output_type": "display_data"
    }
   ],
   "source": [
    "# Naive Bayes with PCA\n",
    "\n",
    "# Create a Gaussian classifier\n",
    "nb_model = GaussianNB()\n",
    "\n",
    "nb_model.fit(X_train_reduced, y_train.iloc[:,1])\n",
    "\n",
    "nb_pred_pca = nb_model.predict(X_test_reduced)\n",
    "\n",
    "print('Naive Bayes accuracy:', round(accuracy_score(y_test.iloc[:,1], nb_pred_pca), 3))\n",
    "\n",
    "cm_nb_pca =  confusion_matrix(y_test.iloc[:,1], nb_pred_pca)\n",
    "\n",
    "ax = plt.subplot()\n",
    "sns.heatmap(cm_nb_pca, annot=True, ax = ax, fmt='g', cmap='Greens') \n",
    "\n",
    "# labels, title and ticks\n",
    "ax.set_xlabel('Predicted labels')\n",
    "ax.set_ylabel('True labels') \n",
    "ax.set_title('Naive Bayes Confusion Matrix with PCA') \n",
    "ax.xaxis.set_ticklabels(labels) \n",
    "ax.yaxis.set_ticklabels(labels, rotation=360);"
   ]
  },
  {
   "cell_type": "code",
   "execution_count": 20,
   "metadata": {},
   "outputs": [
    {
     "name": "stdout",
     "output_type": "stream",
     "text": [
      "Naive Bayes accuracy: 0.794\n"
     ]
    },
    {
     "data": {
      "image/png": "[encoded data removed]",
      "text/plain": [
       "<Figure size 432x288 with 2 Axes>"
      ]
     },
     "metadata": {
      "needs_background": "light"
     },
     "output_type": "display_data"
    }
   ],
   "source": [
    "# Naive Bayes with PLS\n",
    "\n",
    "# Create a Gaussian classifier\n",
    "nb_model = GaussianNB()\n",
    "\n",
    "nb_model.fit(X_train_pls, y_train.iloc[:,1])\n",
    "\n",
    "nb_pred = nb_model.predict(X_test_pls)\n",
    "\n",
    "print('Naive Bayes accuracy:', round(accuracy_score(y_test.iloc[:,1], nb_pred), 3))\n",
    "\n",
    "cm_nb =  confusion_matrix(y_test.iloc[:,1], nb_pred)\n",
    "\n",
    "ax = plt.subplot()\n",
    "sns.heatmap(cm_nb, annot=True, ax = ax, fmt='g', cmap='Greens') \n",
    "\n",
    "# labels, title and ticks\n",
    "ax.set_xlabel('Predicted labels')\n",
    "ax.set_ylabel('True labels') \n",
    "ax.set_title('Naive Bayes Confusion Matrix') \n",
    "ax.xaxis.set_ticklabels(labels) \n",
    "ax.yaxis.set_ticklabels(labels, rotation=360);"
   ]
  },
  {
   "cell_type": "code",
   "execution_count": 24,
   "metadata": {},
   "outputs": [
    {
     "name": "stdout",
     "output_type": "stream",
     "text": [
      "Best Parameters:\n",
      " {'C': 10, 'penalty': 'l1'}\n",
      "Logistic Regression accuracy: 0.882\n"
     ]
    },
    {
     "name": "stderr",
     "output_type": "stream",
     "text": [
      "C:\\Users\\MyPC\\Anaconda3\\lib\\site-packages\\sklearn\\model_selection\\_search.py:814: DeprecationWarning: The default of the `iid` parameter will change from True to False in version 0.22 and will be removed in 0.24. This will change numeric results when test-set sizes are unequal.\n",
      "  DeprecationWarning)\n"
     ]
    },
    {
     "data": {
      "image/png": "[encoded data removed]",
      "text/plain": [
       "<Figure size 432x288 with 2 Axes>"
      ]
     },
     "metadata": {
      "needs_background": "light"
     },
     "output_type": "display_data"
    }
   ],
   "source": [
    "# Logistic Regression with PCA\n",
    "\n",
    "log_grid = {'C': [1e-03, 1e-2, 1e-1, 1, 10], \n",
    "                 'penalty': ['l1', 'l2']}\n",
    "\n",
    "log_estimator = LogisticRegression(solver='liblinear')\n",
    "\n",
    "log_model = GridSearchCV(estimator=log_estimator, \n",
    "                  param_grid=log_grid, \n",
    "                  cv=3,\n",
    "                  scoring='accuracy')\n",
    "\n",
    "log_model.fit(X_train_reduced, y_train.iloc[:,1])\n",
    "\n",
    "print(\"Best Parameters:\\n\", log_model.best_params_)\n",
    "\n",
    "# Select best log model\n",
    "best_log = log_model.best_estimator_\n",
    "\n",
    "# Make predictions using the optimised parameters\n",
    "log_pred_pca = best_log.predict(X_test_reduced)\n",
    "\n",
    "print('Logistic Regression accuracy:', round(accuracy_score(y_test.iloc[:,1], log_pred_pca), 3))\n",
    "\n",
    "cm_log_pca =  confusion_matrix(y_test.iloc[:,1], log_pred_pca)\n",
    "\n",
    "ax = plt.subplot()\n",
    "sns.heatmap(cm_log_pca, annot=True, ax = ax, fmt='g', cmap='Greens') \n",
    "\n",
    "# labels, title and ticks\n",
    "ax.set_xlabel('Predicted labels')\n",
    "ax.set_ylabel('True labels') \n",
    "ax.set_title('Logistic Regression Confusion Matrix with PCA') \n",
    "ax.xaxis.set_ticklabels(labels) \n",
    "ax.yaxis.set_ticklabels(labels, rotation=360);"
   ]
  },
  {
   "cell_type": "code",
   "execution_count": 26,
   "metadata": {},
   "outputs": [
    {
     "name": "stderr",
     "output_type": "stream",
     "text": [
      "C:\\Users\\MyPC\\Anaconda3\\lib\\site-packages\\sklearn\\model_selection\\_search.py:814: DeprecationWarning: The default of the `iid` parameter will change from True to False in version 0.22 and will be removed in 0.24. This will change numeric results when test-set sizes are unequal.\n",
      "  DeprecationWarning)\n"
     ]
    },
    {
     "name": "stdout",
     "output_type": "stream",
     "text": [
      "Best Parameters:\n",
      " {'C': 0.001, 'penalty': 'l2'}\n",
      "Logistic Regression accuracy: 0.882\n"
     ]
    },
    {
     "data": {
      "image/png": "[encoded data removed]",
      "text/plain": [
       "<Figure size 432x288 with 2 Axes>"
      ]
     },
     "metadata": {
      "needs_background": "light"
     },
     "output_type": "display_data"
    }
   ],
   "source": [
    "# Logistic Regression with PLS\n",
    "\n",
    "log_grid = {'C': [1e-03, 1e-2, 1e-1, 1, 10], \n",
    "                 'penalty': ['l1', 'l2']}\n",
    "\n",
    "log_estimator = LogisticRegression(solver='liblinear')\n",
    "\n",
    "log_model = GridSearchCV(estimator=log_estimator, \n",
    "                  param_grid=log_grid, \n",
    "                  cv=3,\n",
    "                  scoring='accuracy')\n",
    "\n",
    "log_model.fit(X_train_pls, y_train.iloc[:,1])\n",
    "\n",
    "print(\"Best Parameters:\\n\", log_model.best_params_)\n",
    "\n",
    "# Select best log model\n",
    "best_log = log_model.best_estimator_\n",
    "\n",
    "# Make predictions using the optimised parameters\n",
    "log_pred = best_log.predict(X_test_pls)\n",
    "\n",
    "print('Logistic Regression accuracy:', round(accuracy_score(y_test.iloc[:,1], log_pred), 3))\n",
    "\n",
    "cm_log =  confusion_matrix(y_test.iloc[:,1], log_pred)\n",
    "\n",
    "ax = plt.subplot()\n",
    "sns.heatmap(cm_log, annot=True, ax = ax, fmt='g', cmap='Greens') \n",
    "\n",
    "# labels, title and ticks\n",
    "ax.set_xlabel('Predicted labels')\n",
    "ax.set_ylabel('True labels') \n",
    "ax.set_title('Logistic Regression Confusion Matrix with PLS') \n",
    "ax.xaxis.set_ticklabels(labels) \n",
    "ax.yaxis.set_ticklabels(labels, rotation=360);"
   ]
  },
  {
   "cell_type": "code",
   "execution_count": 28,
   "metadata": {},
   "outputs": [
    {
     "name": "stdout",
     "output_type": "stream",
     "text": [
      "Best Parameters:\n",
      " {'C': 0.1, 'decision_function_shape': 'ovo', 'gamma': 1, 'kernel': 'linear'}\n",
      "SVM accuracy: 0.912\n"
     ]
    },
    {
     "name": "stderr",
     "output_type": "stream",
     "text": [
      "C:\\Users\\MyPC\\Anaconda3\\lib\\site-packages\\sklearn\\model_selection\\_search.py:814: DeprecationWarning: The default of the `iid` parameter will change from True to False in version 0.22 and will be removed in 0.24. This will change numeric results when test-set sizes are unequal.\n",
      "  DeprecationWarning)\n"
     ]
    },
    {
     "data": {
      "image/png": "[encoded data removed]",
      "text/plain": [
       "<Figure size 432x288 with 2 Axes>"
      ]
     },
     "metadata": {
      "needs_background": "light"
     },
     "output_type": "display_data"
    }
   ],
   "source": [
    "# Support Vector Machine with PCA\n",
    "\n",
    "# Parameter grid\n",
    "svm_param_grid = {'C': [0.1, 1, 10, 100], 'gamma': [1, 0.1, 0.01, 0.001, 0.00001, 10], \"kernel\": [\"linear\", \"rbf\", \"poly\"], \"decision_function_shape\" : [\"ovo\", \"ovr\"]} \n",
    "\n",
    "# Create SVM grid search classifier\n",
    "svm_grid = GridSearchCV(SVC(), svm_param_grid, cv=3)\n",
    "\n",
    "# Train the classifier\n",
    "svm_grid.fit(X_train_reduced, y_train.iloc[:,1])\n",
    "\n",
    "print(\"Best Parameters:\\n\", svm_grid.best_params_)\n",
    "\n",
    "# Select best svc\n",
    "best_svc = svm_grid.best_estimator_\n",
    "\n",
    "# Make predictions using the optimised parameters\n",
    "svm_pred_pca = best_svc.predict(X_test_reduced)\n",
    "\n",
    "print('SVM accuracy:', round(accuracy_score(y_test.iloc[:,1], svm_pred_pca), 3))\n",
    "\n",
    "cm_svm_pca =  confusion_matrix(y_test.iloc[:,1], svm_pred_pca)\n",
    "\n",
    "ax = plt.subplot()\n",
    "sns.heatmap(cm_svm_pca, annot=True, ax = ax, fmt='g', cmap='Greens') \n",
    "\n",
    "# Labels, title and ticks\n",
    "ax.set_xlabel('Predicted labels')\n",
    "ax.set_ylabel('True labels') \n",
    "ax.set_title('SVM Confusion Matrix with PCA') \n",
    "ax.xaxis.set_ticklabels(labels) \n",
    "ax.yaxis.set_ticklabels(labels, rotation=360);"
   ]
  },
  {
   "cell_type": "code",
   "execution_count": 36,
   "metadata": {},
   "outputs": [
    {
     "name": "stdout",
     "output_type": "stream",
     "text": [
      "Best Parameters:\n",
      " {'C': 0.1, 'decision_function_shape': 'ovo', 'gamma': 1, 'kernel': 'linear'}\n",
      "SVM accuracy: 0.882\n"
     ]
    },
    {
     "name": "stderr",
     "output_type": "stream",
     "text": [
      "C:\\Users\\MyPC\\Anaconda3\\lib\\site-packages\\sklearn\\model_selection\\_search.py:814: DeprecationWarning: The default of the `iid` parameter will change from True to False in version 0.22 and will be removed in 0.24. This will change numeric results when test-set sizes are unequal.\n",
      "  DeprecationWarning)\n"
     ]
    },
    {
     "data": {
      "image/png": "[encoded data removed]",
      "text/plain": [
       "<Figure size 432x288 with 2 Axes>"
      ]
     },
     "metadata": {
      "needs_background": "light"
     },
     "output_type": "display_data"
    }
   ],
   "source": [
    "# Support Vector Machine with PLS\n",
    "\n",
    "# Parameter grid\n",
    "svm_param_grid = {'C': [0.1, 1, 10, 100], 'gamma': [1, 0.1, 0.01, 0.001, 0.00001, 10], \"kernel\": [\"linear\", \"rbf\", \"poly\"], \"decision_function_shape\" : [\"ovo\", \"ovr\"]} \n",
    "\n",
    "# Create SVM grid search classifier\n",
    "svm_grid = GridSearchCV(SVC(), svm_param_grid, cv=3)\n",
    "\n",
    "# Train the classifier\n",
    "svm_grid.fit(X_train_pls, y_train.iloc[:,1])\n",
    "\n",
    "print(\"Best Parameters:\\n\", svm_grid.best_params_)\n",
    "\n",
    "# Select best svc\n",
    "best_svc = svm_grid.best_estimator_\n",
    "\n",
    "# Make predictions using the optimised parameters\n",
    "svm_pred = best_svc.predict(X_test_pls)\n",
    "\n",
    "print('SVM accuracy:', round(accuracy_score(y_test.iloc[:,1], svm_pred), 3))\n",
    "\n",
    "cm_svm =  confusion_matrix(y_test.iloc[:,1], svm_pred)\n",
    "\n",
    "ax = plt.subplot()\n",
    "sns.heatmap(cm_svm, annot=True, ax = ax, fmt='g', cmap='Greens') \n",
    "\n",
    "# Labels, title and ticks\n",
    "ax.set_xlabel('Predicted labels')\n",
    "ax.set_ylabel('True labels') \n",
    "ax.set_title('SVM Confusion Matrix with PLS') \n",
    "ax.xaxis.set_ticklabels(labels) \n",
    "ax.yaxis.set_ticklabels(labels, rotation=360);"
   ]
  },
  {
   "cell_type": "code",
   "execution_count": 37,
   "metadata": {},
   "outputs": [
    {
     "name": "stdout",
     "output_type": "stream",
     "text": [
      "Best Parameters:\n",
      " {'bootstrap': False, 'max_features': 0.6, 'min_samples_leaf': 10, 'min_samples_split': 3, 'n_estimators': 60}\n",
      "Random Forest accuracy: 0.676\n"
     ]
    },
    {
     "name": "stderr",
     "output_type": "stream",
     "text": [
      "C:\\Users\\MyPC\\Anaconda3\\lib\\site-packages\\sklearn\\model_selection\\_search.py:814: DeprecationWarning: The default of the `iid` parameter will change from True to False in version 0.22 and will be removed in 0.24. This will change numeric results when test-set sizes are unequal.\n",
      "  DeprecationWarning)\n"
     ]
    },
    {
     "data": {
      "image/png": "[encoded data removed]",
      "text/plain": [
       "<Figure size 432x288 with 2 Axes>"
      ]
     },
     "metadata": {
      "needs_background": "light"
     },
     "output_type": "display_data"
    }
   ],
   "source": [
    "# Random Forest with PCA\n",
    "\n",
    "# Hyperparameters search grid \n",
    "rf_param_grid = {'bootstrap': [False, True],\n",
    "         'n_estimators': [60, 70, 80, 90, 100],\n",
    "         'max_features': [0.6, 0.65, 0.7, 0.75, 0.8],\n",
    "         'min_samples_leaf': [8, 10, 12, 14],\n",
    "         'min_samples_split': [3, 5, 7]\n",
    "        }\n",
    "\n",
    "# Instantiate random forest classifier\n",
    "rf_estimator = RandomForestClassifier(random_state=0)\n",
    "\n",
    "# Create the GridSearchCV object\n",
    "rf_model = GridSearchCV(estimator=rf_estimator, param_grid=rf_param_grid, cv=3, scoring='accuracy')\n",
    "\n",
    "# Fine-tune the hyperparameters\n",
    "rf_model.fit(X_train_reduced, y_train.iloc[:,1])\n",
    "\n",
    "print(\"Best Parameters:\\n\", rf_model.best_params_)\n",
    "\n",
    "# Get the best model\n",
    "rf_model_best = rf_model.best_estimator_\n",
    "\n",
    "# Make predictions using the optimised parameters\n",
    "rf_pred_pca = rf_model_best.predict(X_test_reduced)\n",
    "\n",
    "print('Random Forest accuracy:', round(accuracy_score(y_test.iloc[:,1], rf_pred_pca), 3))\n",
    "\n",
    "cm_rf_pca = confusion_matrix(y_test.iloc[:,1], rf_pred_pca)\n",
    "\n",
    "ax = plt.subplot()\n",
    "sns.heatmap(cm_rf_pca, annot=True, ax = ax, fmt='g', cmap='Greens') \n",
    "\n",
    "# labels, title and ticks\n",
    "ax.set_xlabel('Predicted labels')\n",
    "ax.set_ylabel('True labels') \n",
    "ax.set_title('Random Forest Confusion Matrix with PCA') \n",
    "ax.xaxis.set_ticklabels(labels) \n",
    "ax.yaxis.set_ticklabels(labels, rotation=360);"
   ]
  },
  {
   "cell_type": "code",
   "execution_count": 38,
   "metadata": {},
   "outputs": [
    {
     "name": "stdout",
     "output_type": "stream",
     "text": [
      "Best Parameters:\n",
      " {'bootstrap': False, 'max_features': 0.6, 'min_samples_leaf': 12, 'min_samples_split': 3, 'n_estimators': 60}\n",
      "Random Forest accuracy: 0.824\n"
     ]
    },
    {
     "name": "stderr",
     "output_type": "stream",
     "text": [
      "C:\\Users\\MyPC\\Anaconda3\\lib\\site-packages\\sklearn\\model_selection\\_search.py:814: DeprecationWarning: The default of the `iid` parameter will change from True to False in version 0.22 and will be removed in 0.24. This will change numeric results when test-set sizes are unequal.\n",
      "  DeprecationWarning)\n"
     ]
    },
    {
     "data": {
      "image/png": "[encoded data removed]",
      "text/plain": [
       "<Figure size 432x288 with 2 Axes>"
      ]
     },
     "metadata": {
      "needs_background": "light"
     },
     "output_type": "display_data"
    }
   ],
   "source": [
    "# Random Forest with PLS\n",
    "\n",
    "# Hyperparameters search grid \n",
    "rf_param_grid = {'bootstrap': [False, True],\n",
    "         'n_estimators': [60, 70, 80, 90, 100],\n",
    "         'max_features': [0.6, 0.65, 0.7, 0.75, 0.8],\n",
    "         'min_samples_leaf': [8, 10, 12, 14],\n",
    "         'min_samples_split': [3, 5, 7]\n",
    "        }\n",
    "\n",
    "# Instantiate random forest classifier\n",
    "rf_estimator = RandomForestClassifier(random_state=0)\n",
    "\n",
    "# Create the GridSearchCV object\n",
    "rf_model = GridSearchCV(estimator=rf_estimator, param_grid=rf_param_grid, cv=3, scoring='accuracy')\n",
    "\n",
    "# Fine-tune the hyperparameters\n",
    "rf_model.fit(X_train_pls, y_train.iloc[:,1])\n",
    "\n",
    "print(\"Best Parameters:\\n\", rf_model.best_params_)\n",
    "\n",
    "# Get the best model\n",
    "rf_model_best = rf_model.best_estimator_\n",
    "\n",
    "# Make predictions using the optimised parameters\n",
    "rf_pred = rf_model_best.predict(X_test_pls)\n",
    "\n",
    "print('Random Forest accuracy:', round(accuracy_score(y_test.iloc[:,1], rf_pred), 3))\n",
    "\n",
    "cm_rf = confusion_matrix(y_test.iloc[:,1], rf_pred)\n",
    "\n",
    "ax = plt.subplot()\n",
    "sns.heatmap(cm_rf, annot=True, ax = ax, fmt='g', cmap='Greens') \n",
    "\n",
    "# labels, title and ticks\n",
    "ax.set_xlabel('Predicted labels')\n",
    "ax.set_ylabel('True labels') \n",
    "ax.set_title('Random Forest Confusion Matrix with PLS') \n",
    "ax.xaxis.set_ticklabels(labels) \n",
    "ax.yaxis.set_ticklabels(labels, rotation=360);"
   ]
  },
  {
   "cell_type": "code",
   "execution_count": 40,
   "metadata": {},
   "outputs": [
    {
     "name": "stdout",
     "output_type": "stream",
     "text": [
      "Accuracy:  0.676\n"
     ]
    },
    {
     "data": {
      "image/png": "[encoded data removed]",
      "text/plain": [
       "<Figure size 432x288 with 2 Axes>"
      ]
     },
     "metadata": {
      "needs_background": "light"
     },
     "output_type": "display_data"
    }
   ],
   "source": [
    "# XGB — PCA with no Grid Search \n",
    "\n",
    "xgb2_model = xgb.XGBClassifier()\n",
    "xgb2_model.fit(X_train_reduced, y_train.iloc[:,1])\n",
    "\n",
    "xgb2_pred_pca = xgb2_model.predict(X_test_reduced)\n",
    "\n",
    "print('Accuracy: ', round(accuracy_score(y_test.iloc[:,1], xgb2_pred_pca), 3))\n",
    "\n",
    "cm_xgb2_pca = confusion_matrix(y_test.iloc[:,1], xgb2_pred_pca)\n",
    "\n",
    "ax = plt.subplot()\n",
    "sns.heatmap(cm_xgb2_pca, annot=True, ax = ax, fmt='g', cmap='Greens') \n",
    "\n",
    "# Labels, title and ticks\n",
    "ax.set_xlabel('Predicted labels')\n",
    "ax.set_ylabel('True labels') \n",
    "ax.set_title('XGB (PCA without Grid Search) Confusion Matrix with PLS') \n",
    "ax.xaxis.set_ticklabels(labels) \n",
    "ax.yaxis.set_ticklabels(labels, rotation=360);"
   ]
  },
  {
   "cell_type": "code",
   "execution_count": 42,
   "metadata": {},
   "outputs": [
    {
     "name": "stdout",
     "output_type": "stream",
     "text": [
      "Accuracy:  0.853\n"
     ]
    },
    {
     "data": {
      "image/png": "[encoded data removed]",
      "text/plain": [
       "<Figure size 432x288 with 2 Axes>"
      ]
     },
     "metadata": {
      "needs_background": "light"
     },
     "output_type": "display_data"
    }
   ],
   "source": [
    "# XGB — PLS with no Grid Search \n",
    "\n",
    "xgb2_model = xgb.XGBClassifier()\n",
    "xgb2_model.fit(X_train_pls, y_train.iloc[:,1])\n",
    "\n",
    "xgb2_pred = xgb2_model.predict(X_test_pls)\n",
    "\n",
    "print('Accuracy: ', round(accuracy_score(y_test.iloc[:,1], xgb2_pred), 3))\n",
    "\n",
    "cm_xgb2 = confusion_matrix(y_test.iloc[:,1], xgb2_pred)\n",
    "\n",
    "ax = plt.subplot()\n",
    "sns.heatmap(cm_xgb2, annot=True, ax = ax, fmt='g', cmap='Greens') \n",
    "\n",
    "# Labels, title and ticks\n",
    "ax.set_xlabel('Predicted labels')\n",
    "ax.set_ylabel('True labels') \n",
    "ax.set_title('XGB (PCA without Grid Search) Confusion Matrix with PLS') \n",
    "ax.xaxis.set_ticklabels(labels) \n",
    "ax.yaxis.set_ticklabels(labels, rotation=360);"
   ]
  },
  {
   "cell_type": "markdown",
   "metadata": {},
   "source": [
    "### 2.3 Artificial neural network"
   ]
  },
  {
   "cell_type": "code",
   "execution_count": 76,
   "metadata": {},
   "outputs": [
    {
     "name": "stdout",
     "output_type": "stream",
     "text": [
      "Epoch 1/100\n",
      "38/38 [==============================] - 0s 13ms/step - loss: 0.6925 - accuracy: 0.4737\n",
      "Epoch 2/100\n",
      "38/38 [==============================] - 0s 709us/step - loss: 0.6215 - accuracy: 0.7368\n",
      "Epoch 3/100\n",
      "38/38 [==============================] - 0s 656us/step - loss: 0.5728 - accuracy: 0.7105\n",
      "Epoch 4/100\n",
      "38/38 [==============================] - 0s 814us/step - loss: 0.5427 - accuracy: 0.7105\n",
      "Epoch 5/100\n",
      "38/38 [==============================] - 0s 709us/step - loss: 0.5180 - accuracy: 0.7105\n",
      "Epoch 6/100\n",
      "38/38 [==============================] - 0s 761us/step - loss: 0.4986 - accuracy: 0.7105\n",
      "Epoch 7/100\n",
      "38/38 [==============================] - 0s 840us/step - loss: 0.4730 - accuracy: 0.7105\n",
      "Epoch 8/100\n",
      "38/38 [==============================] - 0s 814us/step - loss: 0.4480 - accuracy: 0.7368\n",
      "Epoch 9/100\n",
      "38/38 [==============================] - 0s 840us/step - loss: 0.4228 - accuracy: 0.7632\n",
      "Epoch 10/100\n",
      "38/38 [==============================] - 0s 945us/step - loss: 0.3947 - accuracy: 0.7895\n",
      "Epoch 11/100\n",
      "38/38 [==============================] - 0s 919us/step - loss: 0.3658 - accuracy: 0.8158\n",
      "Epoch 12/100\n",
      "38/38 [==============================] - 0s 919us/step - loss: 0.3400 - accuracy: 0.9474\n",
      "Epoch 13/100\n",
      "38/38 [==============================] - 0s 892us/step - loss: 0.3165 - accuracy: 0.9474\n",
      "Epoch 14/100\n",
      "38/38 [==============================] - 0s 945us/step - loss: 0.2921 - accuracy: 0.9474\n",
      "Epoch 15/100\n",
      "38/38 [==============================] - 0s 892us/step - loss: 0.2708 - accuracy: 0.9474\n",
      "Epoch 16/100\n",
      "38/38 [==============================] - 0s 997us/step - loss: 0.2501 - accuracy: 0.9737\n",
      "Epoch 17/100\n",
      "38/38 [==============================] - 0s 945us/step - loss: 0.2276 - accuracy: 0.9737\n",
      "Epoch 18/100\n",
      "38/38 [==============================] - 0s 866us/step - loss: 0.2072 - accuracy: 0.9737\n",
      "Epoch 19/100\n",
      "38/38 [==============================] - 0s 892us/step - loss: 0.1871 - accuracy: 0.9737\n",
      "Epoch 20/100\n",
      "38/38 [==============================] - 0s 1ms/step - loss: 0.1692 - accuracy: 1.0000\n",
      "Epoch 21/100\n",
      "38/38 [==============================] - 0s 997us/step - loss: 0.1563 - accuracy: 1.0000\n",
      "Epoch 22/100\n",
      "38/38 [==============================] - 0s 971us/step - loss: 0.1458 - accuracy: 1.0000\n",
      "Epoch 23/100\n",
      "38/38 [==============================] - 0s 971us/step - loss: 0.1349 - accuracy: 1.0000\n",
      "Epoch 24/100\n",
      "38/38 [==============================] - 0s 919us/step - loss: 0.1264 - accuracy: 1.0000\n",
      "Epoch 25/100\n",
      "38/38 [==============================] - 0s 1ms/step - loss: 0.1171 - accuracy: 1.0000\n",
      "Epoch 26/100\n",
      "38/38 [==============================] - 0s 971us/step - loss: 0.1085 - accuracy: 1.0000\n",
      "Epoch 27/100\n",
      "38/38 [==============================] - 0s 971us/step - loss: 0.0998 - accuracy: 1.0000\n",
      "Epoch 28/100\n",
      "38/38 [==============================] - 0s 1ms/step - loss: 0.0935 - accuracy: 1.0000\n",
      "Epoch 29/100\n",
      "38/38 [==============================] - 0s 892us/step - loss: 0.0873 - accuracy: 1.0000\n",
      "Epoch 30/100\n",
      "38/38 [==============================] - 0s 971us/step - loss: 0.0823 - accuracy: 1.0000\n",
      "Epoch 31/100\n",
      "38/38 [==============================] - 0s 945us/step - loss: 0.0776 - accuracy: 1.0000\n",
      "Epoch 32/100\n",
      "38/38 [==============================] - 0s 919us/step - loss: 0.0732 - accuracy: 1.0000\n",
      "Epoch 33/100\n",
      "38/38 [==============================] - 0s 945us/step - loss: 0.0692 - accuracy: 1.0000\n",
      "Epoch 34/100\n",
      "38/38 [==============================] - 0s 971us/step - loss: 0.0652 - accuracy: 1.0000\n",
      "Epoch 35/100\n",
      "38/38 [==============================] - 0s 997us/step - loss: 0.0616 - accuracy: 1.0000\n",
      "Epoch 36/100\n",
      "38/38 [==============================] - 0s 892us/step - loss: 0.0584 - accuracy: 1.0000\n",
      "Epoch 37/100\n",
      "38/38 [==============================] - 0s 945us/step - loss: 0.0555 - accuracy: 1.0000\n",
      "Epoch 38/100\n",
      "38/38 [==============================] - 0s 945us/step - loss: 0.0522 - accuracy: 1.0000\n",
      "Epoch 39/100\n",
      "38/38 [==============================] - 0s 1ms/step - loss: 0.0462 - accuracy: 1.0000\n",
      "Epoch 40/100\n",
      "38/38 [==============================] - 0s 1ms/step - loss: 0.0439 - accuracy: 1.0000\n",
      "Epoch 41/100\n",
      "38/38 [==============================] - 0s 971us/step - loss: 0.0418 - accuracy: 1.0000\n",
      "Epoch 42/100\n",
      "38/38 [==============================] - 0s 945us/step - loss: 0.0383 - accuracy: 1.0000\n",
      "Epoch 43/100\n",
      "38/38 [==============================] - 0s 944us/step - loss: 0.0360 - accuracy: 1.0000\n",
      "Epoch 44/100\n",
      "38/38 [==============================] - 0s 919us/step - loss: 0.0343 - accuracy: 1.0000\n",
      "Epoch 45/100\n",
      "38/38 [==============================] - 0s 971us/step - loss: 0.0327 - accuracy: 1.0000\n",
      "Epoch 46/100\n",
      "38/38 [==============================] - 0s 945us/step - loss: 0.0314 - accuracy: 1.0000\n",
      "Epoch 47/100\n",
      "38/38 [==============================] - 0s 997us/step - loss: 0.0300 - accuracy: 1.0000\n",
      "Epoch 48/100\n",
      "38/38 [==============================] - 0s 997us/step - loss: 0.0288 - accuracy: 1.0000\n",
      "Epoch 49/100\n",
      "38/38 [==============================] - 0s 1ms/step - loss: 0.0277 - accuracy: 1.0000\n",
      "Epoch 50/100\n",
      "38/38 [==============================] - 0s 1ms/step - loss: 0.0266 - accuracy: 1.0000\n",
      "Epoch 51/100\n",
      "38/38 [==============================] - 0s 971us/step - loss: 0.0255 - accuracy: 1.0000\n",
      "Epoch 52/100\n",
      "38/38 [==============================] - 0s 997us/step - loss: 0.0246 - accuracy: 1.0000\n",
      "Epoch 53/100\n",
      "38/38 [==============================] - 0s 997us/step - loss: 0.0237 - accuracy: 1.0000\n",
      "Epoch 54/100\n",
      "38/38 [==============================] - 0s 945us/step - loss: 0.0228 - accuracy: 1.0000\n",
      "Epoch 55/100\n",
      "38/38 [==============================] - 0s 919us/step - loss: 0.0220 - accuracy: 1.0000\n",
      "Epoch 56/100\n",
      "38/38 [==============================] - 0s 997us/step - loss: 0.0212 - accuracy: 1.0000\n",
      "Epoch 57/100\n",
      "38/38 [==============================] - 0s 971us/step - loss: 0.0205 - accuracy: 1.0000\n",
      "Epoch 58/100\n",
      "38/38 [==============================] - 0s 997us/step - loss: 0.0198 - accuracy: 1.0000\n",
      "Epoch 59/100\n",
      "38/38 [==============================] - 0s 892us/step - loss: 0.0191 - accuracy: 1.0000\n",
      "Epoch 60/100\n",
      "38/38 [==============================] - 0s 919us/step - loss: 0.0185 - accuracy: 1.0000\n",
      "Epoch 61/100\n",
      "38/38 [==============================] - 0s 919us/step - loss: 0.0179 - accuracy: 1.0000\n",
      "Epoch 62/100\n",
      "38/38 [==============================] - 0s 945us/step - loss: 0.0173 - accuracy: 1.0000\n",
      "Epoch 63/100\n",
      "38/38 [==============================] - 0s 945us/step - loss: 0.0167 - accuracy: 1.0000\n",
      "Epoch 64/100\n",
      "38/38 [==============================] - 0s 892us/step - loss: 0.0162 - accuracy: 1.0000\n",
      "Epoch 65/100\n",
      "38/38 [==============================] - 0s 945us/step - loss: 0.0157 - accuracy: 1.0000\n",
      "Epoch 66/100\n",
      "38/38 [==============================] - 0s 840us/step - loss: 0.0151 - accuracy: 1.0000\n",
      "Epoch 67/100\n",
      "38/38 [==============================] - 0s 1ms/step - loss: 0.0145 - accuracy: 1.0000\n",
      "Epoch 68/100\n",
      "38/38 [==============================] - 0s 1ms/step - loss: 0.0141 - accuracy: 1.0000\n",
      "Epoch 69/100\n",
      "38/38 [==============================] - 0s 919us/step - loss: 0.0137 - accuracy: 1.0000\n",
      "Epoch 70/100\n",
      "38/38 [==============================] - 0s 971us/step - loss: 0.0133 - accuracy: 1.0000\n",
      "Epoch 71/100\n",
      "38/38 [==============================] - 0s 945us/step - loss: 0.0129 - accuracy: 1.0000\n",
      "Epoch 72/100\n",
      "38/38 [==============================] - 0s 945us/step - loss: 0.0126 - accuracy: 1.0000\n",
      "Epoch 73/100\n",
      "38/38 [==============================] - 0s 840us/step - loss: 0.0122 - accuracy: 1.0000\n",
      "Epoch 74/100\n",
      "38/38 [==============================] - 0s 840us/step - loss: 0.0119 - accuracy: 1.0000\n",
      "Epoch 75/100\n",
      "38/38 [==============================] - 0s 997us/step - loss: 0.0115 - accuracy: 1.0000\n",
      "Epoch 76/100\n",
      "38/38 [==============================] - 0s 945us/step - loss: 0.0112 - accuracy: 1.0000\n",
      "Epoch 77/100\n",
      "38/38 [==============================] - 0s 971us/step - loss: 0.0109 - accuracy: 1.0000\n",
      "Epoch 78/100\n",
      "38/38 [==============================] - 0s 919us/step - loss: 0.0107 - accuracy: 1.0000\n",
      "Epoch 79/100\n",
      "38/38 [==============================] - 0s 997us/step - loss: 0.0104 - accuracy: 1.0000\n",
      "Epoch 80/100\n",
      "38/38 [==============================] - 0s 971us/step - loss: 0.0101 - accuracy: 1.0000\n",
      "Epoch 81/100\n",
      "38/38 [==============================] - 0s 1ms/step - loss: 0.0099 - accuracy: 1.0000\n",
      "Epoch 82/100\n",
      "38/38 [==============================] - 0s 997us/step - loss: 0.0096 - accuracy: 1.0000\n",
      "Epoch 83/100\n",
      "38/38 [==============================] - 0s 892us/step - loss: 0.0094 - accuracy: 1.0000\n",
      "Epoch 84/100\n",
      "38/38 [==============================] - 0s 945us/step - loss: 0.0092 - accuracy: 1.0000\n",
      "Epoch 85/100\n",
      "38/38 [==============================] - 0s 971us/step - loss: 0.0089 - accuracy: 1.0000\n",
      "Epoch 86/100\n",
      "38/38 [==============================] - 0s 919us/step - loss: 0.0087 - accuracy: 1.0000\n",
      "Epoch 87/100\n",
      "38/38 [==============================] - 0s 919us/step - loss: 0.0085 - accuracy: 1.0000\n",
      "Epoch 88/100\n",
      "38/38 [==============================] - 0s 919us/step - loss: 0.0083 - accuracy: 1.0000\n",
      "Epoch 89/100\n",
      "38/38 [==============================] - 0s 971us/step - loss: 0.0081 - accuracy: 1.0000\n",
      "Epoch 90/100\n",
      "38/38 [==============================] - 0s 997us/step - loss: 0.0080 - accuracy: 1.0000\n",
      "Epoch 91/100\n",
      "38/38 [==============================] - 0s 997us/step - loss: 0.0078 - accuracy: 1.0000\n",
      "Epoch 92/100\n",
      "38/38 [==============================] - 0s 919us/step - loss: 0.0076 - accuracy: 1.0000\n",
      "Epoch 93/100\n",
      "38/38 [==============================] - 0s 919us/step - loss: 0.0074 - accuracy: 1.0000\n",
      "Epoch 94/100\n",
      "38/38 [==============================] - 0s 892us/step - loss: 0.0073 - accuracy: 1.0000\n",
      "Epoch 95/100\n",
      "38/38 [==============================] - 0s 945us/step - loss: 0.0071 - accuracy: 1.0000\n",
      "Epoch 96/100\n",
      "38/38 [==============================] - 0s 971us/step - loss: 0.0069 - accuracy: 1.0000\n",
      "Epoch 97/100\n",
      "38/38 [==============================] - 0s 971us/step - loss: 0.0068 - accuracy: 1.0000\n",
      "Epoch 98/100\n",
      "38/38 [==============================] - 0s 945us/step - loss: 0.0067 - accuracy: 1.0000\n",
      "Epoch 99/100\n",
      "38/38 [==============================] - 0s 919us/step - loss: 0.0065 - accuracy: 1.0000\n",
      "Epoch 100/100\n",
      "38/38 [==============================] - 0s 971us/step - loss: 0.0064 - accuracy: 1.0000\n",
      "Neural Network accuracy:  0.912\n"
     ]
    },
    {
     "data": {
      "image/png": "[encoded data removed]",
      "text/plain": [
       "<Figure size 432x288 with 2 Axes>"
      ]
     },
     "metadata": {
      "needs_background": "light"
     },
     "output_type": "display_data"
    }
   ],
   "source": [
    "# ANN with PCA\n",
    "\n",
    "# Create model architecture\n",
    "model = Sequential()\n",
    "model.add(Dense(19, activation='sigmoid', input_shape=(36,)))\n",
    "# model.add(Dense(89, activation='sigmoid'))\n",
    "# model.add(Dense(25, activation='sigmoid'))\n",
    "model.add(Dense(18, activation='sigmoid'))\n",
    "model.add(Dense(1, activation='sigmoid'))\n",
    "\n",
    "# Compile model\n",
    "model.compile(optimizer='nadam',\n",
    "loss='binary_crossentropy',\n",
    "metrics=['accuracy'])\n",
    "\n",
    "# Create training/validation sets\n",
    "# partial_X_train = X_train_scl[:32]\n",
    "# X_val = X_train_scl[32:]\n",
    "\n",
    "# y_train_label = y_train.iloc[:,1]\n",
    "# partial_y_train = y_train_label[:32]\n",
    "# y_val = y_train_label[32:]\n",
    "\n",
    "# Set up early stopping\n",
    "# es = EarlyStopping(monitor='val_loss', verbose=1, patience=3)\n",
    "\n",
    "# Fit model\n",
    "history = model.fit(X_train_reduced,\n",
    "            y_train.iloc[:,1],\n",
    "            epochs=100,\n",
    "            batch_size=2)\n",
    "\n",
    "# Make predictions\n",
    "nn_pred_pca = model.predict_classes(X_test_reduced)\n",
    "\n",
    "print('Neural Network accuracy: ', round(accuracy_score(y_test.iloc[:,1], nn_pred_pca), 3))\n",
    "\n",
    "cm_nn_pca = confusion_matrix(y_test.iloc[:,1], nn_pred_pca)\n",
    "\n",
    "ax = plt.subplot()\n",
    "sns.heatmap(cm_nn_pca, annot=True, ax = ax, fmt='g', cmap='Greens') \n",
    "\n",
    "# Labels, title and ticks\n",
    "ax.set_xlabel('Predicted labels')\n",
    "ax.set_ylabel('True labels') \n",
    "ax.set_title('Neural Network Confusion Matrix with PCA') \n",
    "ax.xaxis.set_ticklabels(labels) \n",
    "ax.yaxis.set_ticklabels(labels, rotation=360);"
   ]
  },
  {
   "cell_type": "code",
   "execution_count": 75,
   "metadata": {
    "scrolled": false
   },
   "outputs": [
    {
     "name": "stderr",
     "output_type": "stream",
     "text": [
      "C:\\Users\\MyPC\\Anaconda3\\lib\\site-packages\\sklearn\\model_selection\\_search.py:814: DeprecationWarning: The default of the `iid` parameter will change from True to False in version 0.22 and will be removed in 0.24. This will change numeric results when test-set sizes are unequal.\n",
      "  DeprecationWarning)\n"
     ]
    },
    {
     "name": "stdout",
     "output_type": "stream",
     "text": [
      "Best: 0.710526 using {'batch_size': 2, 'epochs': 10}\n",
      "0.710526 (0.426094) with: {'batch_size': 2, 'epochs': 10}\n",
      "0.710526 (0.426094) with: {'batch_size': 2, 'epochs': 20}\n",
      "0.710526 (0.426094) with: {'batch_size': 2, 'epochs': 30}\n",
      "0.710526 (0.426094) with: {'batch_size': 2, 'epochs': 40}\n",
      "0.710526 (0.426094) with: {'batch_size': 2, 'epochs': 50}\n",
      "0.710526 (0.426094) with: {'batch_size': 2, 'epochs': 60}\n",
      "0.710526 (0.426094) with: {'batch_size': 2, 'epochs': 70}\n",
      "0.710526 (0.426094) with: {'batch_size': 2, 'epochs': 80}\n",
      "0.710526 (0.426094) with: {'batch_size': 2, 'epochs': 90}\n",
      "0.710526 (0.426094) with: {'batch_size': 2, 'epochs': 100}\n",
      "0.710526 (0.426094) with: {'batch_size': 2, 'epochs': 110}\n",
      "0.710526 (0.426094) with: {'batch_size': 2, 'epochs': 120}\n",
      "0.710526 (0.426094) with: {'batch_size': 2, 'epochs': 130}\n",
      "0.710526 (0.426094) with: {'batch_size': 2, 'epochs': 140}\n",
      "0.710526 (0.426094) with: {'batch_size': 2, 'epochs': 150}\n",
      "0.710526 (0.426094) with: {'batch_size': 2, 'epochs': 160}\n",
      "0.710526 (0.426094) with: {'batch_size': 2, 'epochs': 170}\n",
      "0.710526 (0.426094) with: {'batch_size': 2, 'epochs': 180}\n",
      "0.710526 (0.426094) with: {'batch_size': 2, 'epochs': 190}\n",
      "0.710526 (0.426094) with: {'batch_size': 2, 'epochs': 200}\n",
      "0.710526 (0.426094) with: {'batch_size': 3, 'epochs': 10}\n",
      "0.710526 (0.426094) with: {'batch_size': 3, 'epochs': 20}\n",
      "0.710526 (0.426094) with: {'batch_size': 3, 'epochs': 30}\n",
      "0.710526 (0.426094) with: {'batch_size': 3, 'epochs': 40}\n",
      "0.710526 (0.426094) with: {'batch_size': 3, 'epochs': 50}\n",
      "0.710526 (0.426094) with: {'batch_size': 3, 'epochs': 60}\n",
      "0.710526 (0.426094) with: {'batch_size': 3, 'epochs': 70}\n",
      "0.710526 (0.426094) with: {'batch_size': 3, 'epochs': 80}\n",
      "0.710526 (0.426094) with: {'batch_size': 3, 'epochs': 90}\n",
      "0.710526 (0.426094) with: {'batch_size': 3, 'epochs': 100}\n",
      "0.710526 (0.426094) with: {'batch_size': 3, 'epochs': 110}\n",
      "0.710526 (0.426094) with: {'batch_size': 3, 'epochs': 120}\n",
      "0.710526 (0.426094) with: {'batch_size': 3, 'epochs': 130}\n",
      "0.710526 (0.426094) with: {'batch_size': 3, 'epochs': 140}\n",
      "0.710526 (0.426094) with: {'batch_size': 3, 'epochs': 150}\n",
      "0.710526 (0.426094) with: {'batch_size': 3, 'epochs': 160}\n",
      "0.710526 (0.426094) with: {'batch_size': 3, 'epochs': 170}\n",
      "0.710526 (0.426094) with: {'batch_size': 3, 'epochs': 180}\n",
      "0.710526 (0.426094) with: {'batch_size': 3, 'epochs': 190}\n",
      "0.710526 (0.426094) with: {'batch_size': 3, 'epochs': 200}\n",
      "0.710526 (0.426094) with: {'batch_size': 4, 'epochs': 10}\n",
      "0.710526 (0.426094) with: {'batch_size': 4, 'epochs': 20}\n",
      "0.710526 (0.426094) with: {'batch_size': 4, 'epochs': 30}\n",
      "0.710526 (0.426094) with: {'batch_size': 4, 'epochs': 40}\n",
      "0.710526 (0.426094) with: {'batch_size': 4, 'epochs': 50}\n",
      "0.710526 (0.426094) with: {'batch_size': 4, 'epochs': 60}\n",
      "0.710526 (0.426094) with: {'batch_size': 4, 'epochs': 70}\n",
      "0.710526 (0.426094) with: {'batch_size': 4, 'epochs': 80}\n",
      "0.710526 (0.426094) with: {'batch_size': 4, 'epochs': 90}\n",
      "0.710526 (0.426094) with: {'batch_size': 4, 'epochs': 100}\n",
      "0.710526 (0.426094) with: {'batch_size': 4, 'epochs': 110}\n",
      "0.710526 (0.426094) with: {'batch_size': 4, 'epochs': 120}\n",
      "0.710526 (0.426094) with: {'batch_size': 4, 'epochs': 130}\n",
      "0.710526 (0.426094) with: {'batch_size': 4, 'epochs': 140}\n",
      "0.710526 (0.426094) with: {'batch_size': 4, 'epochs': 150}\n",
      "0.710526 (0.426094) with: {'batch_size': 4, 'epochs': 160}\n",
      "0.710526 (0.426094) with: {'batch_size': 4, 'epochs': 170}\n",
      "0.710526 (0.426094) with: {'batch_size': 4, 'epochs': 180}\n",
      "0.710526 (0.426094) with: {'batch_size': 4, 'epochs': 190}\n",
      "0.710526 (0.426094) with: {'batch_size': 4, 'epochs': 200}\n",
      "0.710526 (0.426094) with: {'batch_size': 5, 'epochs': 10}\n",
      "0.710526 (0.426094) with: {'batch_size': 5, 'epochs': 20}\n",
      "0.710526 (0.426094) with: {'batch_size': 5, 'epochs': 30}\n",
      "0.710526 (0.426094) with: {'batch_size': 5, 'epochs': 40}\n",
      "0.710526 (0.426094) with: {'batch_size': 5, 'epochs': 50}\n",
      "0.710526 (0.426094) with: {'batch_size': 5, 'epochs': 60}\n",
      "0.710526 (0.426094) with: {'batch_size': 5, 'epochs': 70}\n",
      "0.710526 (0.426094) with: {'batch_size': 5, 'epochs': 80}\n",
      "0.710526 (0.426094) with: {'batch_size': 5, 'epochs': 90}\n",
      "0.710526 (0.426094) with: {'batch_size': 5, 'epochs': 100}\n",
      "0.710526 (0.426094) with: {'batch_size': 5, 'epochs': 110}\n",
      "0.710526 (0.426094) with: {'batch_size': 5, 'epochs': 120}\n",
      "0.710526 (0.426094) with: {'batch_size': 5, 'epochs': 130}\n",
      "0.710526 (0.426094) with: {'batch_size': 5, 'epochs': 140}\n",
      "0.710526 (0.426094) with: {'batch_size': 5, 'epochs': 150}\n",
      "0.710526 (0.426094) with: {'batch_size': 5, 'epochs': 160}\n",
      "0.710526 (0.426094) with: {'batch_size': 5, 'epochs': 170}\n",
      "0.710526 (0.426094) with: {'batch_size': 5, 'epochs': 180}\n",
      "0.710526 (0.426094) with: {'batch_size': 5, 'epochs': 190}\n",
      "0.710526 (0.426094) with: {'batch_size': 5, 'epochs': 200}\n",
      "0.710526 (0.426094) with: {'batch_size': 6, 'epochs': 10}\n",
      "0.710526 (0.426094) with: {'batch_size': 6, 'epochs': 20}\n",
      "0.710526 (0.426094) with: {'batch_size': 6, 'epochs': 30}\n",
      "0.710526 (0.426094) with: {'batch_size': 6, 'epochs': 40}\n",
      "0.710526 (0.426094) with: {'batch_size': 6, 'epochs': 50}\n",
      "0.710526 (0.426094) with: {'batch_size': 6, 'epochs': 60}\n",
      "0.710526 (0.426094) with: {'batch_size': 6, 'epochs': 70}\n",
      "0.710526 (0.426094) with: {'batch_size': 6, 'epochs': 80}\n",
      "0.710526 (0.426094) with: {'batch_size': 6, 'epochs': 90}\n",
      "0.710526 (0.426094) with: {'batch_size': 6, 'epochs': 100}\n",
      "0.710526 (0.426094) with: {'batch_size': 6, 'epochs': 110}\n",
      "0.710526 (0.426094) with: {'batch_size': 6, 'epochs': 120}\n",
      "0.710526 (0.426094) with: {'batch_size': 6, 'epochs': 130}\n",
      "0.710526 (0.426094) with: {'batch_size': 6, 'epochs': 140}\n",
      "0.710526 (0.426094) with: {'batch_size': 6, 'epochs': 150}\n",
      "0.710526 (0.426094) with: {'batch_size': 6, 'epochs': 160}\n",
      "0.710526 (0.426094) with: {'batch_size': 6, 'epochs': 170}\n",
      "0.710526 (0.426094) with: {'batch_size': 6, 'epochs': 180}\n",
      "0.710526 (0.426094) with: {'batch_size': 6, 'epochs': 190}\n",
      "0.710526 (0.426094) with: {'batch_size': 6, 'epochs': 200}\n",
      "0.710526 (0.426094) with: {'batch_size': 7, 'epochs': 10}\n",
      "0.710526 (0.426094) with: {'batch_size': 7, 'epochs': 20}\n",
      "0.710526 (0.426094) with: {'batch_size': 7, 'epochs': 30}\n",
      "0.710526 (0.426094) with: {'batch_size': 7, 'epochs': 40}\n",
      "0.710526 (0.426094) with: {'batch_size': 7, 'epochs': 50}\n",
      "0.710526 (0.426094) with: {'batch_size': 7, 'epochs': 60}\n",
      "0.710526 (0.426094) with: {'batch_size': 7, 'epochs': 70}\n",
      "0.710526 (0.426094) with: {'batch_size': 7, 'epochs': 80}\n",
      "0.710526 (0.426094) with: {'batch_size': 7, 'epochs': 90}\n",
      "0.710526 (0.426094) with: {'batch_size': 7, 'epochs': 100}\n",
      "0.710526 (0.426094) with: {'batch_size': 7, 'epochs': 110}\n",
      "0.710526 (0.426094) with: {'batch_size': 7, 'epochs': 120}\n",
      "0.710526 (0.426094) with: {'batch_size': 7, 'epochs': 130}\n",
      "0.710526 (0.426094) with: {'batch_size': 7, 'epochs': 140}\n",
      "0.710526 (0.426094) with: {'batch_size': 7, 'epochs': 150}\n",
      "0.710526 (0.426094) with: {'batch_size': 7, 'epochs': 160}\n",
      "0.710526 (0.426094) with: {'batch_size': 7, 'epochs': 170}\n",
      "0.710526 (0.426094) with: {'batch_size': 7, 'epochs': 180}\n",
      "0.710526 (0.426094) with: {'batch_size': 7, 'epochs': 190}\n",
      "0.710526 (0.426094) with: {'batch_size': 7, 'epochs': 200}\n",
      "0.710526 (0.426094) with: {'batch_size': 8, 'epochs': 10}\n",
      "0.710526 (0.426094) with: {'batch_size': 8, 'epochs': 20}\n",
      "0.710526 (0.426094) with: {'batch_size': 8, 'epochs': 30}\n",
      "0.710526 (0.426094) with: {'batch_size': 8, 'epochs': 40}\n",
      "0.710526 (0.426094) with: {'batch_size': 8, 'epochs': 50}\n",
      "0.710526 (0.426094) with: {'batch_size': 8, 'epochs': 60}\n",
      "0.710526 (0.426094) with: {'batch_size': 8, 'epochs': 70}\n",
      "0.710526 (0.426094) with: {'batch_size': 8, 'epochs': 80}\n",
      "0.710526 (0.426094) with: {'batch_size': 8, 'epochs': 90}\n",
      "0.710526 (0.426094) with: {'batch_size': 8, 'epochs': 100}\n",
      "0.710526 (0.426094) with: {'batch_size': 8, 'epochs': 110}\n",
      "0.710526 (0.426094) with: {'batch_size': 8, 'epochs': 120}\n",
      "0.710526 (0.426094) with: {'batch_size': 8, 'epochs': 130}\n",
      "0.710526 (0.426094) with: {'batch_size': 8, 'epochs': 140}\n",
      "0.710526 (0.426094) with: {'batch_size': 8, 'epochs': 150}\n",
      "0.710526 (0.426094) with: {'batch_size': 8, 'epochs': 160}\n",
      "0.710526 (0.426094) with: {'batch_size': 8, 'epochs': 170}\n",
      "0.710526 (0.426094) with: {'batch_size': 8, 'epochs': 180}\n",
      "0.710526 (0.426094) with: {'batch_size': 8, 'epochs': 190}\n",
      "0.710526 (0.426094) with: {'batch_size': 8, 'epochs': 200}\n",
      "0.710526 (0.426094) with: {'batch_size': 9, 'epochs': 10}\n",
      "0.710526 (0.426094) with: {'batch_size': 9, 'epochs': 20}\n",
      "0.710526 (0.426094) with: {'batch_size': 9, 'epochs': 30}\n",
      "0.710526 (0.426094) with: {'batch_size': 9, 'epochs': 40}\n",
      "0.710526 (0.426094) with: {'batch_size': 9, 'epochs': 50}\n",
      "0.710526 (0.426094) with: {'batch_size': 9, 'epochs': 60}\n",
      "0.710526 (0.426094) with: {'batch_size': 9, 'epochs': 70}\n",
      "0.710526 (0.426094) with: {'batch_size': 9, 'epochs': 80}\n",
      "0.710526 (0.426094) with: {'batch_size': 9, 'epochs': 90}\n",
      "0.710526 (0.426094) with: {'batch_size': 9, 'epochs': 100}\n",
      "0.710526 (0.426094) with: {'batch_size': 9, 'epochs': 110}\n",
      "0.710526 (0.426094) with: {'batch_size': 9, 'epochs': 120}\n",
      "0.710526 (0.426094) with: {'batch_size': 9, 'epochs': 130}\n",
      "0.710526 (0.426094) with: {'batch_size': 9, 'epochs': 140}\n",
      "0.710526 (0.426094) with: {'batch_size': 9, 'epochs': 150}\n",
      "0.710526 (0.426094) with: {'batch_size': 9, 'epochs': 160}\n",
      "0.710526 (0.426094) with: {'batch_size': 9, 'epochs': 170}\n",
      "0.710526 (0.426094) with: {'batch_size': 9, 'epochs': 180}\n",
      "0.710526 (0.426094) with: {'batch_size': 9, 'epochs': 190}\n",
      "0.710526 (0.426094) with: {'batch_size': 9, 'epochs': 200}\n",
      "0.710526 (0.426094) with: {'batch_size': 10, 'epochs': 10}\n",
      "0.710526 (0.426094) with: {'batch_size': 10, 'epochs': 20}\n",
      "0.710526 (0.426094) with: {'batch_size': 10, 'epochs': 30}\n",
      "0.710526 (0.426094) with: {'batch_size': 10, 'epochs': 40}\n",
      "0.710526 (0.426094) with: {'batch_size': 10, 'epochs': 50}\n",
      "0.710526 (0.426094) with: {'batch_size': 10, 'epochs': 60}\n",
      "0.710526 (0.426094) with: {'batch_size': 10, 'epochs': 70}\n",
      "0.710526 (0.426094) with: {'batch_size': 10, 'epochs': 80}\n",
      "0.710526 (0.426094) with: {'batch_size': 10, 'epochs': 90}\n",
      "0.710526 (0.426094) with: {'batch_size': 10, 'epochs': 100}\n",
      "0.710526 (0.426094) with: {'batch_size': 10, 'epochs': 110}\n",
      "0.710526 (0.426094) with: {'batch_size': 10, 'epochs': 120}\n",
      "0.710526 (0.426094) with: {'batch_size': 10, 'epochs': 130}\n",
      "0.710526 (0.426094) with: {'batch_size': 10, 'epochs': 140}\n",
      "0.710526 (0.426094) with: {'batch_size': 10, 'epochs': 150}\n",
      "0.710526 (0.426094) with: {'batch_size': 10, 'epochs': 160}\n",
      "0.710526 (0.426094) with: {'batch_size': 10, 'epochs': 170}\n",
      "0.710526 (0.426094) with: {'batch_size': 10, 'epochs': 180}\n",
      "0.710526 (0.426094) with: {'batch_size': 10, 'epochs': 190}\n",
      "0.710526 (0.426094) with: {'batch_size': 10, 'epochs': 200}\n"
     ]
    }
   ],
   "source": [
    "# Check optimal for ANN\n",
    "\n",
    "from keras.models import Sequential\n",
    "from keras.layers import Dense, Dropout, Flatten\n",
    "import numpy\n",
    "from sklearn.model_selection import GridSearchCV\n",
    "from keras.wrappers.scikit_learn import KerasClassifier\n",
    "from keras.optimizers import SGD\n",
    "from keras.constraints import maxnorm\n",
    "\n",
    "input_dim = X_train_pls.shape[1]\n",
    "# fix random seed for reproducibility\n",
    "seed = 7\n",
    "numpy.random.seed(seed)\n",
    "\n",
    "def create_model():\n",
    "    \n",
    "    # default values\n",
    "    activation='sigmoid' # or linear\n",
    "    dropout_rate=0.0 # or 0.2\n",
    "    init_mode='uniform'\n",
    "    weight_constraint=0 # or  4\n",
    "    optimizer='nadam' # or SGD\n",
    "    lr = 0.01\n",
    "    momemntum=0\n",
    "        \n",
    "    # create model\n",
    "    model = Sequential()\n",
    "    model.add(Dense(20, input_dim=input_dim, kernel_initializer=init_mode, \n",
    "                    activation=activation,\n",
    "                    kernel_constraint=maxnorm(weight_constraint)))\n",
    "    model.add(Dropout(dropout_rate)) \n",
    "    model.add(Dense(12, kernel_initializer=init_mode, activation='sigmoid'))\n",
    "    model.add(Dense(1, kernel_initializer=init_mode, activation='sigmoid'))\n",
    "    # Compile model\n",
    "    model.compile(loss='binary_crossentropy', optimizer=optimizer, metrics=['accuracy'])\n",
    "    return model\n",
    "    \n",
    "# create model\n",
    "model = KerasClassifier(build_fn=create_model, verbose=0)\n",
    "\n",
    "# Use scikit-learn to grid search \n",
    "activation =  ['relu', 'tanh', 'sigmoid', 'hard_sigmoid', 'linear']\n",
    "momentum = [0.0, 0.2, 0.4, 0.6, 0.8, 0.9]\n",
    "learn_rate = [0.001, 0.01, 0.1, 0.2, 0.3]\n",
    "dropout_rate = [0.0, 0.1, 0.2, 0.3, 0.4, 0.5, 0.6, 0.7, 0.8, 0.9]\n",
    "weight_constraint=[1, 2, 3, 4, 5]\n",
    "neurons = [1, 5, 10, 15, 20, 25, 30, 35, 40, 50, 60]\n",
    "init = ['uniform', 'lecun_uniform', 'normal', 'zero', 'glorot_normal', 'glorot_uniform', 'he_normal', 'he_uniform']\n",
    "optimizer = [ 'SGD', 'RMSprop', 'Adagrad', 'Adadelta', 'Adam', 'Adamax', 'Nadam']\n",
    "\n",
    "# grid search epochs, batch size\n",
    "epochs = [10,20,30,40,50,60,70,80,90,100,110,120,130,140,150,160,170,180,190,200] # add 50, 100, 150 etc\n",
    "batch_size = [2,3,4,5,6,7,8,9,10] # add 5, 10, 20, 40, 60, 80, 100 etc\n",
    "param_grid = dict(epochs=epochs, batch_size=batch_size)\n",
    "\n",
    "grid = GridSearchCV(estimator=model, param_grid=param_grid, n_jobs=-1)\n",
    "grid_result = grid.fit(X_train_pls, y_train.iloc[:,1]) \n",
    "\n",
    "# summarize results\n",
    "print(\"Best: %f using %s\" % (grid_result.best_score_, grid_result.best_params_))\n",
    "means = grid_result.cv_results_['mean_test_score']\n",
    "stds = grid_result.cv_results_['std_test_score']\n",
    "params = grid_result.cv_results_['params']\n",
    "for mean, stdev, param in zip(means, stds, params):\n",
    "    print(\"%f (%f) with: %r\" % (mean, stdev, param))"
   ]
  },
  {
   "cell_type": "code",
   "execution_count": 79,
   "metadata": {
    "scrolled": false
   },
   "outputs": [
    {
     "name": "stdout",
     "output_type": "stream",
     "text": [
      "Epoch 1/100\n",
      "38/38 [==============================] - 0s 13ms/step - loss: 0.6448 - accuracy: 0.8158\n",
      "Epoch 2/100\n",
      "38/38 [==============================] - 0s 814us/step - loss: 0.6194 - accuracy: 0.8421\n",
      "Epoch 3/100\n",
      "38/38 [==============================] - 0s 787us/step - loss: 0.5953 - accuracy: 0.7105\n",
      "Epoch 4/100\n",
      "38/38 [==============================] - 0s 682us/step - loss: 0.5722 - accuracy: 0.7105\n",
      "Epoch 5/100\n",
      "38/38 [==============================] - 0s 682us/step - loss: 0.5528 - accuracy: 0.7105\n",
      "Epoch 6/100\n",
      "38/38 [==============================] - 0s 919us/step - loss: 0.5343 - accuracy: 0.7105\n",
      "Epoch 7/100\n",
      "38/38 [==============================] - 0s 971us/step - loss: 0.5189 - accuracy: 0.7105\n",
      "Epoch 8/100\n",
      "38/38 [==============================] - 0s 840us/step - loss: 0.5053 - accuracy: 0.7105\n",
      "Epoch 9/100\n",
      "38/38 [==============================] - 0s 919us/step - loss: 0.4910 - accuracy: 0.7105\n",
      "Epoch 10/100\n",
      "38/38 [==============================] - 0s 919us/step - loss: 0.4761 - accuracy: 0.7105\n",
      "Epoch 11/100\n",
      "38/38 [==============================] - 0s 892us/step - loss: 0.4625 - accuracy: 0.7105\n",
      "Epoch 12/100\n",
      "38/38 [==============================] - 0s 892us/step - loss: 0.4501 - accuracy: 0.7105\n",
      "Epoch 13/100\n",
      "38/38 [==============================] - 0s 814us/step - loss: 0.4365 - accuracy: 0.7105\n",
      "Epoch 14/100\n",
      "38/38 [==============================] - 0s 761us/step - loss: 0.4248 - accuracy: 0.7105\n",
      "Epoch 15/100\n",
      "38/38 [==============================] - 0s 682us/step - loss: 0.4134 - accuracy: 0.7105\n",
      "Epoch 16/100\n",
      "38/38 [==============================] - 0s 682us/step - loss: 0.4029 - accuracy: 0.7105\n",
      "Epoch 17/100\n",
      "38/38 [==============================] - 0s 814us/step - loss: 0.3922 - accuracy: 0.7105\n",
      "Epoch 18/100\n",
      "38/38 [==============================] - 0s 787us/step - loss: 0.3821 - accuracy: 0.7368\n",
      "Epoch 19/100\n",
      "38/38 [==============================] - 0s 787us/step - loss: 0.3717 - accuracy: 0.9211\n",
      "Epoch 20/100\n",
      "38/38 [==============================] - 0s 787us/step - loss: 0.3619 - accuracy: 0.9737\n",
      "Epoch 21/100\n",
      "38/38 [==============================] - 0s 787us/step - loss: 0.3520 - accuracy: 0.9737\n",
      "Epoch 22/100\n",
      "38/38 [==============================] - 0s 919us/step - loss: 0.3422 - accuracy: 0.9737\n",
      "Epoch 23/100\n",
      "38/38 [==============================] - 0s 892us/step - loss: 0.3334 - accuracy: 0.9737\n",
      "Epoch 24/100\n",
      "38/38 [==============================] - 0s 892us/step - loss: 0.3236 - accuracy: 0.9737\n",
      "Epoch 25/100\n",
      "38/38 [==============================] - 0s 761us/step - loss: 0.3139 - accuracy: 0.9737\n",
      "Epoch 26/100\n",
      "38/38 [==============================] - 0s 709us/step - loss: 0.3030 - accuracy: 0.9737\n",
      "Epoch 27/100\n",
      "38/38 [==============================] - 0s 761us/step - loss: 0.2903 - accuracy: 0.9737\n",
      "Epoch 28/100\n",
      "38/38 [==============================] - 0s 787us/step - loss: 0.2772 - accuracy: 0.9737\n",
      "Epoch 29/100\n",
      "38/38 [==============================] - 0s 866us/step - loss: 0.2626 - accuracy: 0.9737\n",
      "Epoch 30/100\n",
      "38/38 [==============================] - 0s 682us/step - loss: 0.2485 - accuracy: 1.0000\n",
      "Epoch 31/100\n",
      "38/38 [==============================] - 0s 840us/step - loss: 0.2388 - accuracy: 1.0000\n",
      "Epoch 32/100\n",
      "38/38 [==============================] - 0s 919us/step - loss: 0.2294 - accuracy: 1.0000\n",
      "Epoch 33/100\n",
      "38/38 [==============================] - 0s 814us/step - loss: 0.2186 - accuracy: 1.0000\n",
      "Epoch 34/100\n",
      "38/38 [==============================] - 0s 787us/step - loss: 0.2100 - accuracy: 1.0000\n",
      "Epoch 35/100\n",
      "38/38 [==============================] - 0s 866us/step - loss: 0.2018 - accuracy: 1.0000\n",
      "Epoch 36/100\n",
      "38/38 [==============================] - 0s 787us/step - loss: 0.1937 - accuracy: 1.0000\n",
      "Epoch 37/100\n",
      "38/38 [==============================] - 0s 840us/step - loss: 0.1851 - accuracy: 1.0000\n",
      "Epoch 38/100\n",
      "38/38 [==============================] - 0s 787us/step - loss: 0.1754 - accuracy: 1.0000\n",
      "Epoch 39/100\n",
      "38/38 [==============================] - 0s 814us/step - loss: 0.1665 - accuracy: 1.0000\n",
      "Epoch 40/100\n",
      "38/38 [==============================] - 0s 840us/step - loss: 0.1593 - accuracy: 1.0000\n",
      "Epoch 41/100\n",
      "38/38 [==============================] - 0s 866us/step - loss: 0.1527 - accuracy: 1.0000\n",
      "Epoch 42/100\n",
      "38/38 [==============================] - 0s 814us/step - loss: 0.1459 - accuracy: 1.0000\n",
      "Epoch 43/100\n",
      "38/38 [==============================] - 0s 840us/step - loss: 0.1383 - accuracy: 1.0000\n",
      "Epoch 44/100\n",
      "38/38 [==============================] - 0s 814us/step - loss: 0.1322 - accuracy: 1.0000\n",
      "Epoch 45/100\n",
      "38/38 [==============================] - 0s 787us/step - loss: 0.1261 - accuracy: 1.0000\n",
      "Epoch 46/100\n",
      "38/38 [==============================] - 0s 761us/step - loss: 0.1194 - accuracy: 1.0000\n",
      "Epoch 47/100\n",
      "38/38 [==============================] - 0s 787us/step - loss: 0.1123 - accuracy: 1.0000\n",
      "Epoch 48/100\n",
      "38/38 [==============================] - 0s 787us/step - loss: 0.1068 - accuracy: 1.0000\n",
      "Epoch 49/100\n",
      "38/38 [==============================] - 0s 814us/step - loss: 0.1023 - accuracy: 1.0000\n",
      "Epoch 50/100\n",
      "38/38 [==============================] - 0s 787us/step - loss: 0.0986 - accuracy: 1.0000\n",
      "Epoch 51/100\n",
      "38/38 [==============================] - 0s 761us/step - loss: 0.0949 - accuracy: 1.0000\n",
      "Epoch 52/100\n",
      "38/38 [==============================] - 0s 787us/step - loss: 0.0915 - accuracy: 1.0000\n",
      "Epoch 53/100\n",
      "38/38 [==============================] - 0s 814us/step - loss: 0.0878 - accuracy: 1.0000\n",
      "Epoch 54/100\n",
      "38/38 [==============================] - 0s 761us/step - loss: 0.0831 - accuracy: 1.0000\n",
      "Epoch 55/100\n",
      "38/38 [==============================] - 0s 787us/step - loss: 0.0793 - accuracy: 1.0000\n",
      "Epoch 56/100\n",
      "38/38 [==============================] - 0s 814us/step - loss: 0.0765 - accuracy: 1.0000\n",
      "Epoch 57/100\n",
      "38/38 [==============================] - 0s 761us/step - loss: 0.0739 - accuracy: 1.0000\n",
      "Epoch 58/100\n",
      "38/38 [==============================] - 0s 735us/step - loss: 0.0716 - accuracy: 1.0000\n",
      "Epoch 59/100\n",
      "38/38 [==============================] - 0s 761us/step - loss: 0.0693 - accuracy: 1.0000\n",
      "Epoch 60/100\n",
      "38/38 [==============================] - 0s 735us/step - loss: 0.0672 - accuracy: 1.0000\n",
      "Epoch 61/100\n",
      "38/38 [==============================] - 0s 787us/step - loss: 0.0651 - accuracy: 1.0000\n",
      "Epoch 62/100\n",
      "38/38 [==============================] - 0s 971us/step - loss: 0.0632 - accuracy: 1.0000\n",
      "Epoch 63/100\n",
      "38/38 [==============================] - 0s 814us/step - loss: 0.0613 - accuracy: 1.0000\n",
      "Epoch 64/100\n",
      "38/38 [==============================] - 0s 814us/step - loss: 0.0596 - accuracy: 1.0000\n",
      "Epoch 65/100\n",
      "38/38 [==============================] - 0s 761us/step - loss: 0.0579 - accuracy: 1.0000\n",
      "Epoch 66/100\n",
      "38/38 [==============================] - 0s 761us/step - loss: 0.0563 - accuracy: 1.0000\n",
      "Epoch 67/100\n",
      "38/38 [==============================] - 0s 840us/step - loss: 0.0547 - accuracy: 1.0000\n",
      "Epoch 68/100\n",
      "38/38 [==============================] - 0s 787us/step - loss: 0.0532 - accuracy: 1.0000\n",
      "Epoch 69/100\n",
      "38/38 [==============================] - 0s 761us/step - loss: 0.0518 - accuracy: 1.0000\n",
      "Epoch 70/100\n",
      "38/38 [==============================] - 0s 787us/step - loss: 0.0504 - accuracy: 1.0000\n",
      "Epoch 71/100\n",
      "38/38 [==============================] - 0s 787us/step - loss: 0.0491 - accuracy: 1.0000\n",
      "Epoch 72/100\n",
      "38/38 [==============================] - 0s 761us/step - loss: 0.0479 - accuracy: 1.0000\n",
      "Epoch 73/100\n",
      "38/38 [==============================] - 0s 761us/step - loss: 0.0466 - accuracy: 1.0000\n",
      "Epoch 74/100\n",
      "38/38 [==============================] - 0s 761us/step - loss: 0.0454 - accuracy: 1.0000\n",
      "Epoch 75/100\n",
      "38/38 [==============================] - 0s 787us/step - loss: 0.0443 - accuracy: 1.0000\n",
      "Epoch 76/100\n",
      "38/38 [==============================] - 0s 787us/step - loss: 0.0433 - accuracy: 1.0000\n",
      "Epoch 77/100\n",
      "38/38 [==============================] - 0s 761us/step - loss: 0.0422 - accuracy: 1.0000\n",
      "Epoch 78/100\n",
      "38/38 [==============================] - 0s 814us/step - loss: 0.0412 - accuracy: 1.0000\n",
      "Epoch 79/100\n",
      "38/38 [==============================] - 0s 814us/step - loss: 0.0402 - accuracy: 1.0000\n",
      "Epoch 80/100\n",
      "38/38 [==============================] - 0s 735us/step - loss: 0.0393 - accuracy: 1.0000\n",
      "Epoch 81/100\n",
      "38/38 [==============================] - 0s 814us/step - loss: 0.0384 - accuracy: 1.0000\n",
      "Epoch 82/100\n",
      "38/38 [==============================] - 0s 761us/step - loss: 0.0375 - accuracy: 1.0000\n",
      "Epoch 83/100\n",
      "38/38 [==============================] - 0s 761us/step - loss: 0.0367 - accuracy: 1.0000\n",
      "Epoch 84/100\n",
      "38/38 [==============================] - 0s 761us/step - loss: 0.0358 - accuracy: 1.0000\n",
      "Epoch 85/100\n",
      "38/38 [==============================] - 0s 814us/step - loss: 0.0350 - accuracy: 1.0000\n",
      "Epoch 86/100\n",
      "38/38 [==============================] - 0s 840us/step - loss: 0.0343 - accuracy: 1.0000\n",
      "Epoch 87/100\n",
      "38/38 [==============================] - 0s 814us/step - loss: 0.0335 - accuracy: 1.0000\n",
      "Epoch 88/100\n",
      "38/38 [==============================] - 0s 787us/step - loss: 0.0328 - accuracy: 1.0000\n",
      "Epoch 89/100\n",
      "38/38 [==============================] - 0s 787us/step - loss: 0.0321 - accuracy: 1.0000\n",
      "Epoch 90/100\n",
      "38/38 [==============================] - 0s 761us/step - loss: 0.0314 - accuracy: 1.0000\n",
      "Epoch 91/100\n",
      "38/38 [==============================] - 0s 840us/step - loss: 0.0308 - accuracy: 1.0000\n",
      "Epoch 92/100\n",
      "38/38 [==============================] - 0s 814us/step - loss: 0.0301 - accuracy: 1.0000\n",
      "Epoch 93/100\n",
      "38/38 [==============================] - 0s 761us/step - loss: 0.0295 - accuracy: 1.0000\n",
      "Epoch 94/100\n",
      "38/38 [==============================] - 0s 761us/step - loss: 0.0289 - accuracy: 1.0000\n",
      "Epoch 95/100\n",
      "38/38 [==============================] - 0s 787us/step - loss: 0.0283 - accuracy: 1.0000\n",
      "Epoch 96/100\n",
      "38/38 [==============================] - 0s 814us/step - loss: 0.0278 - accuracy: 1.0000\n",
      "Epoch 97/100\n",
      "38/38 [==============================] - 0s 787us/step - loss: 0.0272 - accuracy: 1.0000\n",
      "Epoch 98/100\n",
      "38/38 [==============================] - 0s 787us/step - loss: 0.0267 - accuracy: 1.0000\n",
      "Epoch 99/100\n",
      "38/38 [==============================] - 0s 814us/step - loss: 0.0262 - accuracy: 1.0000\n",
      "Epoch 100/100\n",
      "38/38 [==============================] - 0s 814us/step - loss: 0.0257 - accuracy: 1.0000\n",
      "Neural Network accuracy:  0.941\n"
     ]
    },
    {
     "data": {
      "image/png": "[encoded data removed]",
      "text/plain": [
       "<Figure size 432x288 with 2 Axes>"
      ]
     },
     "metadata": {
      "needs_background": "light"
     },
     "output_type": "display_data"
    }
   ],
   "source": [
    "# ANN with PLS\n",
    "\n",
    "# Create model architecture\n",
    "model = Sequential()\n",
    "model.add(Dense(5, activation='sigmoid', input_shape=(4,)))\n",
    "# model.add(Dense(89, activation='sigmoid'))\n",
    "# model.add(Dense(25, activation='sigmoid'))\n",
    "model.add(Dense(5, activation='sigmoid'))\n",
    "model.add(Dense(1, activation='sigmoid'))\n",
    "\n",
    "# Compile model\n",
    "model.compile(optimizer='nadam',\n",
    "loss='binary_crossentropy',\n",
    "metrics=['accuracy'])\n",
    "\n",
    "# Create training/validation sets\n",
    "# partial_X_train = X_train_scl[:32]\n",
    "# X_val = X_train_scl[32:]\n",
    "\n",
    "# y_train_label = y_train.iloc[:,1]\n",
    "# partial_y_train = y_train_label[:32]\n",
    "# y_val = y_train_label[32:]\n",
    "\n",
    "# Set up early stopping\n",
    "# es = EarlyStopping(monitor='val_loss', verbose=1, patience=3)\n",
    "\n",
    "# Fit model\n",
    "history = model.fit(X_train_pls, y_train.iloc[:,1],epochs=100,batch_size=2)\n",
    "\n",
    "# Make predictions\n",
    "nn_pred = model.predict_classes(X_test_pls)\n",
    "\n",
    "print('Neural Network accuracy: ', round(accuracy_score(y_test.iloc[:,1], nn_pred), 3))\n",
    "\n",
    "cm_nn = confusion_matrix(y_test.iloc[:,1], nn_pred)\n",
    "\n",
    "ax = plt.subplot()\n",
    "sns.heatmap(cm_nn, annot=True, ax = ax, fmt='g', cmap='Greens') \n",
    "\n",
    "# Labels, title and ticks\n",
    "ax.set_xlabel('Predicted labels')\n",
    "ax.set_ylabel('True labels') \n",
    "ax.set_title('Neural Network Confusion Matrix') \n",
    "ax.xaxis.set_ticklabels(labels) \n",
    "ax.yaxis.set_ticklabels(labels, rotation=360);"
   ]
  },
  {
   "cell_type": "markdown",
   "metadata": {},
   "source": [
    "## 3 Accuracy evaluate methods"
   ]
  },
  {
   "cell_type": "code",
   "execution_count": 83,
   "metadata": {},
   "outputs": [
    {
     "name": "stdout",
     "output_type": "stream",
     "text": [
      "Confusion Matrix of K-Means: [[20  0]\n",
      " [ 5  9]]\n",
      "Confusion Matrix of Naive Bayes: [[20  0]\n",
      " [ 7  7]]\n",
      "Confusion Matrix of Logistic Regression: [[16  4]\n",
      " [ 0 14]]\n",
      "Confusion Matrix of SVM: [[20  0]\n",
      " [ 4 10]]\n",
      "Confusion Matrix of Random Forest: [[19  1]\n",
      " [ 5  9]]\n",
      "Confusion Matrix of XG Boost: [[19  1]\n",
      " [ 4 10]]\n",
      "Confusion Matrix of ANN: [[19  1]\n",
      " [ 1 13]]\n"
     ]
    }
   ],
   "source": [
    "# Classification Accuracy\n",
    "\n",
    "# importing the required module\n",
    "from sklearn import metrics\n",
    "\n",
    "# Confuse matrix\n",
    "\n",
    "print (\"Confusion Matrix of K-Means:\", cm_km)\n",
    "print (\"Confusion Matrix of Naive Bayes:\", cm_nb)\n",
    "print (\"Confusion Matrix of Logistic Regression:\", cm_log)\n",
    "print (\"Confusion Matrix of SVM:\", cm_svm)\n",
    "print (\"Confusion Matrix of Random Forest:\", cm_rf)\n",
    "print (\"Confusion Matrix of XG Boost:\", cm_xgb2)\n",
    "print (\"Confusion Matrix of ANN:\", cm_nn)\n"
   ]
  },
  {
   "cell_type": "code",
   "execution_count": 102,
   "metadata": {},
   "outputs": [
    {
     "name": "stdout",
     "output_type": "stream",
     "text": [
      "Accuracy of K-Means: 0.971\n",
      "Accuracy of Naive Bayes: 0.824\n",
      "Accuracy of Logistic Regression: 0.941\n",
      "Accuracy of SVM: 0.941\n",
      "Accuracy of Random Forest: 0.912\n",
      "Accuracy of XG Boost: 0.941\n",
      "Accuracy of ANN: 0.971\n"
     ]
    }
   ],
   "source": [
    "# Accuracy PLS\n",
    "\n",
    "print (\"Accuracy of K-Means:\", round(metrics.accuracy_score(y_test.iloc[:,1], km_pred),3))\n",
    "print (\"Accuracy of Naive Bayes:\", round(metrics.accuracy_score(y_test.iloc[:,1], nb_pred),3))\n",
    "print (\"Accuracy of Logistic Regression:\",  round(metrics.accuracy_score(y_test.iloc[:,1], log_pred),3))\n",
    "print (\"Accuracy of SVM:\", round(metrics.accuracy_score(y_test.iloc[:,1], svm_pred),3))\n",
    "print (\"Accuracy of Random Forest:\", round(metrics.accuracy_score(y_test.iloc[:,1], rf_pred),3))\n",
    "print (\"Accuracy of XG Boost:\", round(metrics.accuracy_score(y_test.iloc[:,1], xgb2_pred),3))\n",
    "print (\"Accuracy of ANN:\", round(metrics.accuracy_score(y_test.iloc[:,1], nn_pred),3))"
   ]
  },
  {
   "cell_type": "code",
   "execution_count": 105,
   "metadata": {},
   "outputs": [
    {
     "name": "stdout",
     "output_type": "stream",
     "text": [
      "Accuracy of K-Means: 0.765\n",
      "Accuracy of Naive Bayes: 0.676\n",
      "Accuracy of Logistic Regression: 0.882\n",
      "Accuracy of SVM: 0.912\n",
      "Accuracy of Random Forest: 0.676\n",
      "Accuracy of XG Boost: 0.676\n",
      "Accuracy of ANN: 0.853\n"
     ]
    }
   ],
   "source": [
    "# Accuracy PCA\n",
    "\n",
    "print (\"Accuracy of K-Means:\", round(metrics.accuracy_score(y_test.iloc[:,1], km_pred_pca),3))\n",
    "print (\"Accuracy of Naive Bayes:\", round(metrics.accuracy_score(y_test.iloc[:,1], nb_pred_pca),3))\n",
    "print (\"Accuracy of Logistic Regression:\",  round(metrics.accuracy_score(y_test.iloc[:,1], log_pred_pca),3))\n",
    "print (\"Accuracy of SVM:\", round(metrics.accuracy_score(y_test.iloc[:,1], svm_pred_pca),3))\n",
    "print (\"Accuracy of Random Forest:\", round(metrics.accuracy_score(y_test.iloc[:,1], rf_pred_pca),3))\n",
    "print (\"Accuracy of XG Boost:\", round(metrics.accuracy_score(y_test.iloc[:,1], xgb2_pred_pca),3))\n",
    "print (\"Accuracy of ANN:\", round(metrics.accuracy_score(y_test.iloc[:,1], nn_pred_pca),3))"
   ]
  },
  {
   "cell_type": "code",
   "execution_count": 87,
   "metadata": {},
   "outputs": [
    {
     "name": "stdout",
     "output_type": "stream",
     "text": [
      "Classification Error of K-Means: 0.1470588235294118\n",
      "Classification Error of Naive Bayes: 0.20588235294117652\n",
      "Classification Error of Logistic Regression: 0.11764705882352944\n",
      "Classification Error of SVM: 0.11764705882352944\n",
      "Classification Error of Random Forest: 0.17647058823529416\n",
      "Classification Error of XG Boost: 0.1470588235294118\n",
      "Classification Error of ANN: 0.05882352941176472\n"
     ]
    }
   ],
   "source": [
    "# Classification Error\n",
    "\n",
    "# Misclassification Rate\n",
    "\n",
    "print (\"Classification Error of K-Means:\", 1 - metrics.accuracy_score(y_test.iloc[:,1], km_pred))\n",
    "print (\"Classification Error of Naive Bayes:\", 1 - metrics.accuracy_score(y_test.iloc[:,1], nb_pred))\n",
    "print (\"Classification Error of Logistic Regression:\", 1 - metrics.accuracy_score(y_test.iloc[:,1], log_pred))\n",
    "print (\"Classification Error of SVM:\", 1 - metrics.accuracy_score(y_test.iloc[:,1], svm_pred))\n",
    "print (\"Classification Error of Random Forest:\", 1 - metrics.accuracy_score(y_test.iloc[:,1], rf_pred))\n",
    "print (\"Classification Error of XG Boost:\", 1 - metrics.accuracy_score(y_test.iloc[:,1], xgb2_pred))\n",
    "print (\"Classification Error of ANN:\", 1 - metrics.accuracy_score(y_test.iloc[:,1], nn_pred))"
   ]
  },
  {
   "cell_type": "code",
   "execution_count": 107,
   "metadata": {},
   "outputs": [
    {
     "name": "stdout",
     "output_type": "stream",
     "text": [
      "Sensitivity of K-Means: 0.9705882352941176\n",
      "Sensitivity of Naive Bayes: 0.8235294117647058\n",
      "Sensitivity of Logistic Regression: 0.9411764705882353\n",
      "Sensitivity of SVM: 0.9411764705882353\n",
      "Sensitivity of Random Forest: 0.9117647058823529\n",
      "Sensitivity of XG Boost: 0.9411764705882353\n",
      "Sensitivity of ANN: 0.9705882352941176\n"
     ]
    }
   ],
   "source": [
    "# Sensitivity PLS\n",
    "\n",
    "print (\"Sensitivity of K-Means:\", metrics.recall_score(y_test.iloc[:,1], km_pred, average='weighted'))\n",
    "print (\"Sensitivity of Naive Bayes:\", metrics.recall_score(y_test.iloc[:,1], nb_pred, average='weighted'))\n",
    "print (\"Sensitivity of Logistic Regression:\", metrics.recall_score(y_test.iloc[:,1], log_pred, average='weighted'))\n",
    "print (\"Sensitivity of SVM:\", metrics.recall_score(y_test.iloc[:,1], svm_pred, average='weighted'))\n",
    "print (\"Sensitivity of Random Forest:\", metrics.recall_score(y_test.iloc[:,1], rf_pred, average='weighted'))\n",
    "print (\"Sensitivity of XG Boost:\", metrics.recall_score(y_test.iloc[:,1], xgb2_pred, average='weighted'))\n",
    "print (\"Sensitivity of ANN:\", metrics.recall_score(y_test.iloc[:,1], nn_pred, average='weighted'))"
   ]
  },
  {
   "cell_type": "code",
   "execution_count": 108,
   "metadata": {},
   "outputs": [
    {
     "name": "stdout",
     "output_type": "stream",
     "text": [
      "Sensitivity of K-Means: 0.7647058823529411\n",
      "Sensitivity of Naive Bayes: 0.6764705882352942\n",
      "Sensitivity of Logistic Regression: 0.8823529411764706\n",
      "Sensitivity of SVM: 0.9117647058823529\n",
      "Sensitivity of Random Forest: 0.6764705882352942\n",
      "Sensitivity of XG Boost: 0.6764705882352942\n",
      "Sensitivity of ANN: 0.9705882352941176\n"
     ]
    }
   ],
   "source": [
    "# Sensitivity PCA\n",
    "\n",
    "print (\"Sensitivity of K-Means:\", metrics.recall_score(y_test.iloc[:,1], km_pred_pca, average='weighted'))\n",
    "print (\"Sensitivity of Naive Bayes:\", metrics.recall_score(y_test.iloc[:,1], nb_pred_pca, average='weighted'))\n",
    "print (\"Sensitivity of Logistic Regression:\", metrics.recall_score(y_test.iloc[:,1], log_pred_pca, average='weighted'))\n",
    "print (\"Sensitivity of SVM:\", metrics.recall_score(y_test.iloc[:,1], svm_pred_pca, average='weighted'))\n",
    "print (\"Sensitivity of Random Forest:\", metrics.recall_score(y_test.iloc[:,1], rf_pred_pca, average='weighted'))\n",
    "print (\"Sensitivity of XG Boost:\", metrics.recall_score(y_test.iloc[:,1], xgb2_pred_pca, average='weighted'))\n",
    "print (\"Sensitivity of ANN:\", metrics.recall_score(y_test.iloc[:,1], nn_pred, average='weighted'))"
   ]
  },
  {
   "cell_type": "code",
   "execution_count": 71,
   "metadata": {},
   "outputs": [
    {
     "name": "stdout",
     "output_type": "stream",
     "text": [
      "Precision of K-Means: 0.7342478493373633\n",
      "Precision of Naive Bayes: 0.8642533936651584\n",
      "Precision of Logistic Regression: 0.9141382868937048\n",
      "Precision of SVM: 0.9232736572890026\n",
      "Precision of Random Forest: 0.790158371040724\n",
      "Precision of XG Boost: 0.790158371040724\n",
      "Precision of ANN: 0.9141382868937048\n"
     ]
    }
   ],
   "source": [
    "# Precision : TP / (TP + FP) ( PLS)\n",
    "\n",
    "print (\"Precision of K-Means:\", metrics.precision_score(y_test.iloc[:,1], km_pred, average='weighted'))\n",
    "print (\"Precision of Naive Bayes:\", metrics.precision_score(y_test.iloc[:,1], nb_pred, average='weighted'))\n",
    "print (\"Precision of Logistic Regression:\", metrics.precision_score(y_test.iloc[:,1], log_pred, average='weighted'))\n",
    "print (\"Precision of SVM:\", metrics.precision_score(y_test.iloc[:,1], svm_pred, average='weighted'))\n",
    "print (\"Precision of Random Forest:\", metrics.precision_score(y_test.iloc[:,1], rf_pred, average='weighted'))\n",
    "print (\"Precision of XG Boost:\", metrics.precision_score(y_test.iloc[:,1], xgb_pred, average='weighted'))\n",
    "print (\"Precision of ANN:\", metrics.precision_score(y_test.iloc[:,1], nn_pred, average='weighted'))"
   ]
  },
  {
   "cell_type": "code",
   "execution_count": 110,
   "metadata": {},
   "outputs": [
    {
     "name": "stdout",
     "output_type": "stream",
     "text": [
      "Precision of K-Means: 0.790158371040724\n",
      "Precision of Naive Bayes: 0.7674959311787956\n",
      "Precision of Logistic Regression: 0.8823529411764706\n",
      "Precision of SVM: 0.9232736572890026\n",
      "Precision of Random Forest: 0.6804953560371516\n",
      "Precision of XG Boost: 0.7912713472485768\n",
      "Precision of ANN: 0.8602650546384562\n"
     ]
    }
   ],
   "source": [
    "# Precision : TP / (TP + FP) ( PCA)\n",
    "\n",
    "print (\"Precision of K-Means:\", metrics.precision_score(y_test.iloc[:,1], km_pred_pca, average='weighted'))\n",
    "print (\"Precision of Naive Bayes:\", metrics.precision_score(y_test.iloc[:,1], nb_pred_pca, average='weighted'))\n",
    "print (\"Precision of Logistic Regression:\", metrics.precision_score(y_test.iloc[:,1], log_pred_pca, average='weighted'))\n",
    "print (\"Precision of SVM:\", metrics.precision_score(y_test.iloc[:,1], svm_pred_pca, average='weighted'))\n",
    "print (\"Precision of Random Forest:\", metrics.precision_score(y_test.iloc[:,1], rf_pred_pca, average='weighted'))\n",
    "print (\"Precision of XG Boost:\", metrics.precision_score(y_test.iloc[:,1], xgb2_pred_pca, average='weighted'))\n",
    "print (\"Precision of ANN:\", metrics.precision_score(y_test.iloc[:,1], nn_pred_pca, average='weighted'))"
   ]
  },
  {
   "cell_type": "code",
   "execution_count": 72,
   "metadata": {},
   "outputs": [
    {
     "name": "stdout",
     "output_type": "stream",
     "text": [
      "F-measure of K-Means: 0.7286456908344734\n",
      "F-measure of Naive Bayes: 0.810974192048361\n",
      "F-measure of Logistic Regression: 0.9121547823373382\n",
      "F-measure of SVM: 0.9095485636114912\n",
      "F-measure of Random Forest: 0.7479655893978145\n",
      "F-measure of XG Boost: 0.7479655893978145\n",
      "F-measure of ANN: 0.9121547823373382\n"
     ]
    }
   ],
   "source": [
    "# F-measure : 2 P R / (P + R) (PLS)\n",
    "\n",
    "print (\"F-measure of K-Means:\", metrics.f1_score(y_test.iloc[:,1], km_pred, average='weighted'))\n",
    "print (\"F-measure of Naive Bayes:\", metrics.f1_score(y_test.iloc[:,1], nb_pred, average='weighted'))\n",
    "print (\"F-measure of Logistic Regression:\", metrics.f1_score(y_test.iloc[:,1], log_pred, average='weighted'))\n",
    "print (\"F-measure of SVM:\", metrics.f1_score(y_test.iloc[:,1], svm_pred, average='weighted'))\n",
    "print (\"F-measure of Random Forest:\", metrics.f1_score(y_test.iloc[:,1], rf_pred, average='weighted'))\n",
    "print (\"F-measure of XG Boost:\", metrics.f1_score(y_test.iloc[:,1], xgb_pred, average='weighted'))\n",
    "print (\"F-measure of ANN:\", metrics.f1_score(y_test.iloc[:,1], nn_pred, average='weighted'))"
   ]
  },
  {
   "cell_type": "code",
   "execution_count": 111,
   "metadata": {},
   "outputs": [
    {
     "name": "stdout",
     "output_type": "stream",
     "text": [
      "F-measure of K-Means: 0.7479655893978145\n",
      "F-measure of Naive Bayes: 0.6688548130673366\n",
      "F-measure of Logistic Regression: 0.8823529411764706\n",
      "F-measure of SVM: 0.9095485636114912\n",
      "F-measure of Random Forest: 0.6779008685702398\n",
      "F-measure of XG Boost: 0.6066897347174163\n",
      "F-measure of ANN: 0.8492476060191521\n"
     ]
    }
   ],
   "source": [
    "# F-measure : 2 P R / (P + R) (PCA)\n",
    "\n",
    "print (\"F-measure of K-Means:\", metrics.f1_score(y_test.iloc[:,1], km_pred_pca, average='weighted'))\n",
    "print (\"F-measure of Naive Bayes:\", metrics.f1_score(y_test.iloc[:,1], nb_pred_pca, average='weighted'))\n",
    "print (\"F-measure of Logistic Regression:\", metrics.f1_score(y_test.iloc[:,1], log_pred_pca, average='weighted'))\n",
    "print (\"F-measure of SVM:\", metrics.f1_score(y_test.iloc[:,1], svm_pred_pca, average='weighted'))\n",
    "print (\"F-measure of Random Forest:\", metrics.f1_score(y_test.iloc[:,1], rf_pred_pca, average='weighted'))\n",
    "print (\"F-measure of XG Boost:\", metrics.f1_score(y_test.iloc[:,1], xgb2_pred_pca, average='weighted'))\n",
    "print (\"F-measure of ANN:\", metrics.f1_score(y_test.iloc[:,1], nn_pred_pca, average='weighted'))"
   ]
  },
  {
   "cell_type": "code",
   "execution_count": 85,
   "metadata": {},
   "outputs": [
    {
     "data": {
      "image/png": "[encoded data removed]",
      "text/plain": [
       "<Figure size 640x480 with 1 Axes>"
      ]
     },
     "metadata": {},
     "output_type": "display_data"
    }
   ],
   "source": [
    "import matplotlib.pyplot as plt; plt.rcdefaults()\n",
    "import numpy as np\n",
    "import matplotlib.pyplot as plt\n",
    "\n",
    "objects = ('K-Means', 'NB', 'Logistic', 'SVM', 'RD', 'XGB' , 'ANN')\n",
    "y_pos = np.arange(len(objects))\n",
    "performance = [round(metrics.accuracy_score(y_test.iloc[:,1], km_pred),3),\n",
    "               round(metrics.accuracy_score(y_test.iloc[:,1], nb_pred),3),\n",
    "                 round(metrics.accuracy_score(y_test.iloc[:,1], log_pred),3),\n",
    "                 round(metrics.accuracy_score(y_test.iloc[:,1], svm_pred),3),\n",
    "                 round(metrics.accuracy_score(y_test.iloc[:,1], rf_pred),3),\n",
    "                 round(metrics.accuracy_score(y_test.iloc[:,1], xgb2_pred),3),\n",
    "                 round(metrics.accuracy_score(y_test.iloc[:,1], nn_pred),3)]\n",
    "\n",
    "# fig, ax = plt.subplots()\n",
    "# bar_width = 0.1\n",
    "plt.bar(y_pos, performance, align='center', alpha=0.8)\n",
    "plt.xticks(y_pos, objects )\n",
    "plt.ylabel('Accuracy')\n",
    "plt.title('Performance')\n",
    "\n",
    "plt.show()"
   ]
  },
  {
   "cell_type": "code",
   "execution_count": 88,
   "metadata": {},
   "outputs": [
    {
     "data": {
      "image/png": "[encoded data removed]",
      "text/plain": [
       "<Figure size 640x480 with 1 Axes>"
      ]
     },
     "metadata": {},
     "output_type": "display_data"
    }
   ],
   "source": [
    "# Data to plot : Accuracy\n",
    "\n",
    "n_groups = 8\n",
    "PLS = [round(metrics.accuracy_score(y_test.iloc[:,1], km_pred),3),\n",
    "               round(metrics.accuracy_score(y_test.iloc[:,1], nb_pred),3),\n",
    "                 round(metrics.accuracy_score(y_test.iloc[:,1], log_pred),3),\n",
    "                 round(metrics.accuracy_score(y_test.iloc[:,1], svm_pred),3),\n",
    "                 round(metrics.accuracy_score(y_test.iloc[:,1], rf_pred),3),\n",
    "                 round(metrics.accuracy_score(y_test.iloc[:,1], xgb2_pred),3),\n",
    "                 round(metrics.accuracy_score(y_test.iloc[:,1], nn_pred),3), 0]\n",
    "\n",
    "PCA = [round(metrics.accuracy_score(y_test.iloc[:,1], km_pred_pca),3),\n",
    "               round(metrics.accuracy_score(y_test.iloc[:,1], nb_pred_pca),3),\n",
    "                 round(metrics.accuracy_score(y_test.iloc[:,1], log_pred_pca),3),\n",
    "                 round(metrics.accuracy_score(y_test.iloc[:,1], svm_pred_pca),3),\n",
    "                 round(metrics.accuracy_score(y_test.iloc[:,1], rf_pred_pca),3),\n",
    "                 round(metrics.accuracy_score(y_test.iloc[:,1], xgb2_pred_pca),3),\n",
    "                 round(metrics.accuracy_score(y_test.iloc[:,1], nn_pred_pca),3), 0]\n",
    "\n",
    "# create plot\n",
    "fig, ax = plt.subplots()\n",
    "index = np.arange(n_groups)\n",
    "bar_width = 0.3\n",
    "opacity = 0.8\n",
    "\n",
    "rects1 = plt.bar(index, PLS, bar_width,\n",
    "alpha=opacity,\n",
    "color='b',\n",
    "label='PLS')\n",
    "\n",
    "rects2 = plt.bar(index + bar_width, PCA , bar_width,\n",
    "alpha=opacity,\n",
    "color='g',\n",
    "label='PCA')\n",
    "\n",
    "plt.xlabel('Accuracy')\n",
    "plt.ylabel('Models')\n",
    "plt.title('Performance Accuracy')\n",
    "plt.xticks(index + bar_width, ('K-Means', 'NB', 'Logistic', 'SVM', 'RD', 'XGB' , 'ANN'))\n",
    "plt.legend()\n",
    "\n",
    "plt.tight_layout()\n",
    "plt.show()"
   ]
  },
  {
   "cell_type": "code",
   "execution_count": 91,
   "metadata": {},
   "outputs": [
    {
     "data": {
      "image/png": "[encoded data removed]",
      "text/plain": [
       "<Figure size 640x480 with 1 Axes>"
      ]
     },
     "metadata": {},
     "output_type": "display_data"
    }
   ],
   "source": [
    "# Data to plot : Precisions\n",
    "\n",
    "n_groups = 8\n",
    "PLS_P = [metrics.precision_score(y_test.iloc[:,1], km_pred, average='weighted'),\n",
    " metrics.precision_score(y_test.iloc[:,1], nb_pred, average='weighted'),\n",
    " metrics.precision_score(y_test.iloc[:,1], log_pred, average='weighted'),\n",
    " metrics.precision_score(y_test.iloc[:,1], svm_pred, average='weighted'),\n",
    " metrics.precision_score(y_test.iloc[:,1], rf_pred, average='weighted'),\n",
    " metrics.precision_score(y_test.iloc[:,1], xgb2_pred, average='weighted'),\n",
    " metrics.precision_score(y_test.iloc[:,1], nn_pred, average='weighted'), 0]\n",
    "\n",
    "PCA_P = [metrics.precision_score(y_test.iloc[:,1], km_pred_pca, average='weighted'),\n",
    " metrics.precision_score(y_test.iloc[:,1], nb_pred_pca, average='weighted'),\n",
    " metrics.precision_score(y_test.iloc[:,1], log_pred_pca, average='weighted'),\n",
    " metrics.precision_score(y_test.iloc[:,1], svm_pred_pca, average='weighted'),\n",
    " metrics.precision_score(y_test.iloc[:,1], rf_pred_pca, average='weighted'),\n",
    " metrics.precision_score(y_test.iloc[:,1], xgb2_pred_pca, average='weighted'),\n",
    " metrics.precision_score(y_test.iloc[:,1], nn_pred_pca, average='weighted'), 0]\n",
    "\n",
    "# create plot\n",
    "fig, ax = plt.subplots()\n",
    "index = np.arange(n_groups)\n",
    "bar_width = 0.3\n",
    "opacity = 0.8\n",
    "\n",
    "rects1 = plt.bar(index, PLS_P, bar_width,\n",
    "alpha=opacity,\n",
    "color='brown',\n",
    "label='PLS')\n",
    "\n",
    "rects2 = plt.bar(index + bar_width, PCA_P , bar_width,\n",
    "alpha=opacity,\n",
    "color='teal',\n",
    "label='PCA')\n",
    "\n",
    "plt.xlabel('Accuracy')\n",
    "plt.ylabel('Models')\n",
    "plt.title('Performance Precisions')\n",
    "plt.xticks(index + bar_width, ('K-Means', 'NB', 'Logistic', 'SVM', 'RD', 'XGB' , 'ANN'))\n",
    "plt.legend()\n",
    "\n",
    "plt.tight_layout()\n",
    "plt.show()"
   ]
  },
  {
   "cell_type": "code",
   "execution_count": 95,
   "metadata": {},
   "outputs": [
    {
     "data": {
      "image/png": "[encoded data removed]",
      "text/plain": [
       "<Figure size 640x480 with 1 Axes>"
      ]
     },
     "metadata": {},
     "output_type": "display_data"
    }
   ],
   "source": [
    "# Data to plot : Sensitivity\n",
    "\n",
    "n_groups = 8\n",
    "PLS_S = [metrics.recall_score(y_test.iloc[:,1], km_pred, average='weighted'),\n",
    " metrics.recall_score(y_test.iloc[:,1], nb_pred, average='weighted'),\n",
    " metrics.recall_score(y_test.iloc[:,1], log_pred, average='weighted'),\n",
    " metrics.recall_score(y_test.iloc[:,1], svm_pred, average='weighted'),\n",
    " metrics.recall_score(y_test.iloc[:,1], rf_pred, average='weighted'),\n",
    " metrics.recall_score(y_test.iloc[:,1], xgb2_pred, average='weighted'),\n",
    " metrics.recall_score(y_test.iloc[:,1], nn_pred, average='weighted'), 0]\n",
    "\n",
    "PCA_S = [metrics.recall_score(y_test.iloc[:,1], km_pred_pca, average='weighted'),\n",
    " metrics.recall_score(y_test.iloc[:,1], nb_pred_pca, average='weighted'),\n",
    " metrics.recall_score(y_test.iloc[:,1], log_pred_pca, average='weighted'),\n",
    " metrics.recall_score(y_test.iloc[:,1], svm_pred_pca, average='weighted'),\n",
    " metrics.recall_score(y_test.iloc[:,1], rf_pred_pca, average='weighted'),\n",
    " metrics.recall_score(y_test.iloc[:,1], xgb2_pred_pca, average='weighted'),\n",
    " metrics.recall_score(y_test.iloc[:,1], nn_pred_pca, average='weighted'), 0]\n",
    "\n",
    "# create plot\n",
    "fig, ax = plt.subplots()\n",
    "index = np.arange(n_groups)\n",
    "bar_width = 0.3\n",
    "opacity = 0.8\n",
    "\n",
    "rects1 = plt.bar(index, PLS_S, bar_width,\n",
    "alpha=opacity,\n",
    "color='tab:brown',\n",
    "label='PLS')\n",
    "\n",
    "rects2 = plt.bar(index + bar_width, PCA_S , bar_width,\n",
    "alpha=opacity,\n",
    "color='tab:pink',\n",
    "label='PCA')\n",
    "\n",
    "plt.xlabel('Accuracy')\n",
    "plt.ylabel('Models')\n",
    "plt.title('Performance Sensitivity')\n",
    "plt.xticks(index + bar_width, ('K-Means', 'NB', 'Logistic', 'SVM', 'RD', 'XGB' , 'ANN'))\n",
    "plt.legend()\n",
    "\n",
    "plt.tight_layout()\n",
    "plt.show()"
   ]
  },
  {
   "cell_type": "code",
   "execution_count": 98,
   "metadata": {},
   "outputs": [
    {
     "data": {
      "image/png": "[encoded data removed]",
      "text/plain": [
       "<Figure size 640x480 with 1 Axes>"
      ]
     },
     "metadata": {},
     "output_type": "display_data"
    }
   ],
   "source": [
    "# Data to plot : F-measure\n",
    "\n",
    "n_groups = 8\n",
    "PLS_F = [metrics.f1_score(y_test.iloc[:,1], km_pred, average='weighted'),\n",
    " metrics.f1_score(y_test.iloc[:,1], nb_pred, average='weighted'),\n",
    " metrics.f1_score(y_test.iloc[:,1], log_pred, average='weighted'),\n",
    " metrics.f1_score(y_test.iloc[:,1], svm_pred, average='weighted'),\n",
    " metrics.f1_score(y_test.iloc[:,1], rf_pred, average='weighted'),\n",
    " metrics.f1_score(y_test.iloc[:,1], xgb2_pred, average='weighted'),\n",
    " metrics.f1_score(y_test.iloc[:,1], nn_pred, average='weighted'), 0]\n",
    "\n",
    "PCA_F = [metrics.f1_score(y_test.iloc[:,1], km_pred_pca, average='weighted'),\n",
    " metrics.f1_score(y_test.iloc[:,1], nb_pred_pca, average='weighted'),\n",
    " metrics.f1_score(y_test.iloc[:,1], log_pred_pca, average='weighted'),\n",
    " metrics.f1_score(y_test.iloc[:,1], svm_pred_pca, average='weighted'),\n",
    " metrics.f1_score(y_test.iloc[:,1], rf_pred_pca, average='weighted'),\n",
    " metrics.f1_score(y_test.iloc[:,1], xgb2_pred_pca, average='weighted'),\n",
    " metrics.f1_score(y_test.iloc[:,1], nn_pred_pca, average='weighted'), 0]\n",
    "\n",
    "# create plot\n",
    "fig, ax = plt.subplots()\n",
    "index = np.arange(n_groups)\n",
    "bar_width = 0.3\n",
    "opacity = 0.8\n",
    "\n",
    "rects1 = plt.bar(index, PLS_F, bar_width,\n",
    "alpha=opacity,\n",
    "color='tab:blue',\n",
    "label='PLS')\n",
    "\n",
    "rects2 = plt.bar(index + bar_width, PCA_F , bar_width,\n",
    "alpha=opacity,\n",
    "color='tab:green',\n",
    "label='PCA')\n",
    "\n",
    "plt.xlabel('Accuracy')\n",
    "plt.ylabel('Models')\n",
    "plt.title('Performance F-measure')\n",
    "plt.xticks(index + bar_width, ('K-Means', 'NB', 'Logistic', 'SVM', 'RD', 'XGB' , 'ANN'))\n",
    "plt.legend()\n",
    "\n",
    "plt.tight_layout()\n",
    "plt.show()"
   ]
  },
  {
   "cell_type": "code",
   "execution_count": null,
   "metadata": {},
   "outputs": [],
   "source": [
    "df = pd.DataFrame{data(np.array nhé), index = , columns = }"
   ]
  },
  {
   "cell_type": "code",
   "execution_count": 99,
   "metadata": {},
   "outputs": [],
   "source": [
    "# Statistical for PLS\n",
    "\n",
    "PLS_Stat = { \"Accuracy\" : PLS[0:-1], \"Sensitivity\" : PLS_S[0:-1], \"Precisions\" : PLS_P[0:-1] , 'F-measure' : PLS_F[0:-1]}\n",
    "PLS_Stat_pd = pd.DataFrame(PLS_Stat, index = ['K-Means', 'Naive Bayes', 'Logistic', 'SVM', 'Random Forest', 'XG Boots' , 'ANN'])\n",
    "PLS_Stat_pd\n",
    "\n",
    "PLS_Stat_pd.to_csv('H:/MASTER KHDL/ADVANCED MACHINE LEARNING/Cuoi Ky/PLS_Stat.csv',index = True)"
   ]
  },
  {
   "cell_type": "code",
   "execution_count": 100,
   "metadata": {},
   "outputs": [],
   "source": [
    "# Statistical for PCA\n",
    "\n",
    "PCA_Stat = { \"Accuracy\" : PCA[0:-1], \"Sensitivity\" : PCA_S[0:-1], \"Precisions\" : PCA_P[0:-1] , 'F-measure' : PCA_F[0:-1]}\n",
    "PCA_Stat_pd = pd.DataFrame(PCA_Stat, index = ['K-Means', 'Naive Bayes', 'Logistic', 'SVM', 'Random Forest', 'XG Boots' , 'ANN'])\n",
    "PCA_Stat_pd\n",
    "\n",
    "PCA_Stat_pd.to_csv('H:/MASTER KHDL/ADVANCED MACHINE LEARNING/Cuoi Ky/PCA_Stat.csv',index = True)"
   ]
  },
  {
   "cell_type": "code",
   "execution_count": 101,
   "metadata": {},
   "outputs": [],
   "source": [
    "# Statistical for PLS Confuse Matrix\n",
    "\n",
    "PLS_TP = [cm_km[0,0], cm_nb[0,0] ,cm_log[0,0], cm_svm[0,0], cm_rf[0,0], cm_xgb2[0,0], cm_nn[0,0]]\n",
    "PLS_FN = [cm_km[0,1], cm_nb[0,1] ,cm_log[0,1], cm_svm[0,1], cm_rf[0,1], cm_xgb2[0,1], cm_nn[0,1]]\n",
    "PLS_FP = [cm_km[1,0], cm_nb[1,0] ,cm_log[1,0], cm_svm[1,0], cm_rf[1,0], cm_xgb2[1,0], cm_nn[1,0]]\n",
    "PLS_TN = [cm_km[1,1], cm_nb[1,1] ,cm_log[1,1], cm_svm[1,1], cm_rf[1,1], cm_xgb2[1,1], cm_nn[1,1]]\n",
    "\n",
    "PLS_CM = { 'TP' : PLS_TP , 'FN' : PLS_FN , 'FP' : PLS_FP , 'TN' : PLS_TN}\n",
    "\n",
    "PLS_Stat_CM = pd.DataFrame(PLS_CM, index = ['K-Means', 'Naive Bayes', 'Logistic', 'SVM', 'Random Forest', 'XG Boots' , 'ANN'] )\n",
    "PLS_Stat_CM.to_csv('H:/MASTER KHDL/ADVANCED MACHINE LEARNING/Cuoi Ky/PLS_Stat_CM.csv',index = True)"
   ]
  },
  {
   "cell_type": "code",
   "execution_count": 102,
   "metadata": {},
   "outputs": [],
   "source": [
    "# Statistical for PCA Confuse Matrix\n",
    "\n",
    "PCA_TP = [cm_km_pca[0,0], cm_nb_pca[0,0] ,cm_log_pca[0,0], cm_svm_pca[0,0], cm_rf_pca[0,0], cm_xgb2_pca[0,0], cm_nn_pca[0,0]]\n",
    "PCA_FN = [cm_km_pca[0,1], cm_nb_pca[0,1] ,cm_log_pca[0,1], cm_svm_pca[0,1], cm_rf_pca[0,1], cm_xgb2_pca[0,1], cm_nn_pca[0,1]]\n",
    "PCA_FP = [cm_km_pca[1,0], cm_nb_pca[1,0] ,cm_log_pca[1,0], cm_svm_pca[1,0], cm_rf_pca[1,0], cm_xgb2_pca[1,0], cm_nn_pca[1,0]]\n",
    "PCA_TN = [cm_km_pca[1,1], cm_nb_pca[1,1] ,cm_log_pca[1,1], cm_svm_pca[1,1], cm_rf_pca[1,1], cm_xgb2_pca[1,1], cm_nn_pca[1,1]]\n",
    "\n",
    "PCA_CM = { 'TP' : PCA_TP , 'FN' : PCA_FN , 'FP' : PCA_FP , 'TN' : PCA_TN}\n",
    "\n",
    "PCA_Stat_CM = pd.DataFrame(PCA_CM, index = ['K-Means', 'Naive Bayes', 'Logistic', 'SVM', 'Random Forest', 'XG Boots' , 'ANN'] )\n",
    "PCA_Stat_CM.to_csv('H:/MASTER KHDL/ADVANCED MACHINE LEARNING/Cuoi Ky/PCA_Stat_CM.csv',index = True)"
   ]
  },
  {
   "cell_type": "code",
   "execution_count": 103,
   "metadata": {},
   "outputs": [
    {
     "data": {
      "image/png": "[encoded data removed]",
      "text/plain": [
       "<Figure size 640x480 with 1 Axes>"
      ]
     },
     "metadata": {},
     "output_type": "display_data"
    }
   ],
   "source": [
    "# Confuse Matrix PLS\n",
    "\n",
    "# Data to plot : F-measure\n",
    "\n",
    "n_groups = 4\n",
    "\n",
    "# Divide\n",
    "G_KM = [PLS_Stat_CM.iloc[0,0] , PLS_Stat_CM.iloc[0,1], PLS_Stat_CM.iloc[0,2], PLS_Stat_CM.iloc[0,3]]\n",
    "G_NV = [PLS_Stat_CM.iloc[1,0] , PLS_Stat_CM.iloc[1,1], PLS_Stat_CM.iloc[1,2], PLS_Stat_CM.iloc[1,3]]\n",
    "G_Log = [PLS_Stat_CM.iloc[2,0] , PLS_Stat_CM.iloc[2,1], PLS_Stat_CM.iloc[2,2], PLS_Stat_CM.iloc[2,3]]\n",
    "G_SVM = [PLS_Stat_CM.iloc[3,0] , PLS_Stat_CM.iloc[3,1], PLS_Stat_CM.iloc[3,2], PLS_Stat_CM.iloc[3,3]]\n",
    "G_RF = [PLS_Stat_CM.iloc[4,0] , PLS_Stat_CM.iloc[4,1], PLS_Stat_CM.iloc[4,2], PLS_Stat_CM.iloc[4,3]]\n",
    "G_XGB = [PLS_Stat_CM.iloc[5,0] , PLS_Stat_CM.iloc[5,1], PLS_Stat_CM.iloc[5,2], PLS_Stat_CM.iloc[5,3]]\n",
    "G_ANN = [PLS_Stat_CM.iloc[6,0] , PLS_Stat_CM.iloc[6,1], PLS_Stat_CM.iloc[6,2], PLS_Stat_CM.iloc[6,3]]\n",
    "\n",
    "# create plot\n",
    "fig, ax = plt.subplots()\n",
    "index = np.arange(n_groups)\n",
    "bar_width = 0.1\n",
    "opacity = 0.8\n",
    "\n",
    "rects1 = plt.bar(index, G_KM, bar_width, alpha=opacity, color='tab:blue', label='K-Means')\n",
    "rects2 = plt.bar(index + bar_width, G_NV, bar_width, alpha=opacity, color='tab:orange', label='Naive Bayes')\n",
    "rects3 = plt.bar(index + bar_width*2, G_Log, bar_width, alpha=opacity, color='tab:green', label='Logistic')\n",
    "rects4 = plt.bar(index+ bar_width*3, G_SVM, bar_width, alpha=opacity, color='tab:red', label='SVM')\n",
    "rects5 = plt.bar(index+ bar_width*4, G_RF, bar_width, alpha=opacity, color='tab:purple', label='Random Forest')\n",
    "rects6 = plt.bar(index+ bar_width*5, G_XGB, bar_width, alpha=opacity, color='tab:brown', label='XG Boots')\n",
    "rects7 = plt.bar(index+ bar_width*6, G_ANN, bar_width, alpha=opacity, color='tab:cyan', label='ANN')\n",
    "\n",
    "#plt.xlabel('Accuracy')\n",
    "#plt.ylabel('Models')\n",
    "plt.title('Classification Results')\n",
    "plt.xticks(index + bar_width*3, ('TP' , 'FN' , 'FP' ,'TN'))\n",
    "plt.legend()\n",
    "\n",
    "plt.tight_layout()\n",
    "plt.show()"
   ]
  }
 ],
 "metadata": {
  "kernelspec": {
   "display_name": "Python 3",
   "language": "python",
   "name": "python3"
  },
  "language_info": {
   "codemirror_mode": {
    "name": "ipython",
    "version": 3
   },
   "file_extension": ".py",
   "mimetype": "text/x-python",
   "name": "python",
   "nbconvert_exporter": "python",
   "pygments_lexer": "ipython3",
   "version": "3.7.1"
  }
 },
 "nbformat": 4,
 "nbformat_minor": 2
}
